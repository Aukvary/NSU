{
 "cells": [
  {
   "cell_type": "code",
   "execution_count": null,
   "id": "48f7e810-8263-40a0-8fef-681b988dadf3",
   "metadata": {},
   "outputs": [],
   "source": [
    "# map, filter, lambda, enumerate, *args, **kwargs"
   ]
  },
  {
   "cell_type": "code",
   "execution_count": null,
   "id": "e78295fb-e012-42cd-814e-4e258d57046b",
   "metadata": {},
   "outputs": [],
   "source": [
    "#1\n",
    "\"\"\"Используя функцию map, преобразуйте список чисел согласно правилу:\n",
    "1. Четные числа умножьте на 2\n",
    "2. Нечетные числа возведите в квадрат\"\"\""
   ]
  },
  {
   "cell_type": "code",
   "execution_count": 2,
   "id": "30c4c091-98ac-4c56-9a59-3665fd20bb28",
   "metadata": {},
   "outputs": [
    {
     "name": "stdout",
     "output_type": "stream",
     "text": [
      "1 4 9 8 25\n"
     ]
    }
   ],
   "source": [
    "nums = [int(num) for num in input().split()]\n",
    "\n",
    "print(*map(lambda x: x**2 if x % 2 else x * 2, nums))"
   ]
  },
  {
   "cell_type": "code",
   "execution_count": null,
   "id": "c7159a27-6bd4-4630-bb9d-4bddb4e211c8",
   "metadata": {},
   "outputs": [],
   "source": [
    "#2\n",
    "\"\"\"Используя функцию filter, отфильтруйте строки по трем критериям:\n",
    "1. Длина больше 5 символов\n",
    "2. Содержит букву 'a'\n",
    "3. Не начинается с заглавной буквы\"\"\""
   ]
  },
  {
   "cell_type": "code",
   "execution_count": null,
   "id": "a7c2aa1f-6c60-4614-8e38-bd8b639f0778",
   "metadata": {},
   "outputs": [
    {
     "name": "stdout",
     "output_type": "stream",
     "text": [
      "aaaaaaaaa\n"
     ]
    }
   ],
   "source": [
    "strs = [s for s in input().split()]\n",
    "\n",
    "print(*filter(lambda x: len(x) > 5 and 'a' in x and x[0].islower(), strs))"
   ]
  },
  {
   "cell_type": "code",
   "execution_count": null,
   "id": "f4168a48-d01d-4adc-991c-1b255997b98b",
   "metadata": {},
   "outputs": [],
   "source": [
    "#3\n",
    "\"\"\"Используя комбинацию enumerate, filter и map, создайте словарь где:\n",
    "1. Ключ: индекс элемента\n",
    "2. Значение: имя в верхнем регистре\n",
    "3. Длина имени более 4 символов \"\"\""
   ]
  },
  {
   "cell_type": "code",
   "execution_count": 8,
   "id": "b6880629-b21e-4c54-a103-84f2dfd5a59f",
   "metadata": {},
   "outputs": [
    {
     "name": "stdout",
     "output_type": "stream",
     "text": [
      "{0: 'OPOPO', 1: 'GOOGLE'}\n"
     ]
    }
   ],
   "source": [
    "d = { }\n",
    "\n",
    "for i, var in enumerate(filter(lambda x: len(x) > 4, input().split())):\n",
    "    d[i] = var.upper()\n",
    "\n",
    "print(d)"
   ]
  },
  {
   "cell_type": "code",
   "execution_count": null,
   "id": "d724ac89-51c2-430f-8bc3-da1b2430514b",
   "metadata": {},
   "outputs": [],
   "source": [
    "#4\n",
    "\"\"\"Используя функцию enumerate, найдите индексы элементов по разным условиям:\n",
    "1) Элементы, которые делятся на 3\n",
    "2) Элементы больше 10\n",
    "3) Элементы на четных позициях \"\"\""
   ]
  },
  {
   "cell_type": "code",
   "execution_count": 9,
   "id": "a32a6584-8b68-4090-ba5c-2a047bde9d99",
   "metadata": {},
   "outputs": [
    {
     "name": "stdout",
     "output_type": "stream",
     "text": [
      "[2, 5, 8, 11, 14, 17]\n",
      "[10, 11, 12, 13, 14, 15, 16, 17, 18, 19]\n",
      "[0, 2, 4, 6, 8, 10, 12, 14, 16, 18]\n"
     ]
    }
   ],
   "source": [
    "nums = [int(num) for num in input().split()]\n",
    "\n",
    "print([i for i, var in enumerate(nums) if var % 3 == 0])\n",
    "print([i for i, var in enumerate(nums) if var > 10])\n",
    "print([i for i, var in enumerate(nums) if i % 2 == 0])"
   ]
  },
  {
   "cell_type": "code",
   "execution_count": null,
   "id": "42fbc7a8-c715-4100-b858-8c476599aad9",
   "metadata": {},
   "outputs": [],
   "source": [
    "#5\n",
    "\"\"\"Используя filter и map, преобразуйте список кортежей в отформатированные строки:\n",
    "1) Формат: \"Имя: возраст лет\"\n",
    "2) Люди возраста старше 18 лет \"\"\""
   ]
  },
  {
   "cell_type": "code",
   "execution_count": 14,
   "id": "e929981f-f6b2-4f36-936f-3a9e8de7b25f",
   "metadata": {},
   "outputs": [
    {
     "name": "stdout",
     "output_type": "stream",
     "text": [
      "io: 89 лет\n",
      "fj: 21 лет\n",
      "fg: 25 лет\n"
     ]
    }
   ],
   "source": [
    "people = [tuple(i for i in input().split()) for _ in range(5)]\n",
    "\n",
    "strs = map(lambda x: f'{x[0]}: {x[1]} лет', filter(lambda x: int(x[1]) > 18, people))\n",
    "\n",
    "for s in strs:\n",
    "    print(s)"
   ]
  },
  {
   "cell_type": "code",
   "execution_count": null,
   "id": "eedef2df-cd44-44f3-a8cb-ba54c8907f6c",
   "metadata": {},
   "outputs": [],
   "source": [
    "#6\n",
    "\"\"\"Найдите индексы:\n",
    "1) Простых чисел\n",
    "2) Чисел-палиндромов\n",
    "3) Одновременно простых и палиндромов\"\"\""
   ]
  },
  {
   "cell_type": "code",
   "execution_count": null,
   "id": "c6d19177-0bff-4496-b3dd-e8f55ce5d55f",
   "metadata": {},
   "outputs": [
    {
     "ename": "SyntaxError",
     "evalue": "invalid syntax (4245286596.py, line 9)",
     "output_type": "error",
     "traceback": [
      "  \u001b[36mCell\u001b[39m\u001b[36m \u001b[39m\u001b[32mIn[15]\u001b[39m\u001b[32m, line 9\u001b[39m\n\u001b[31m    \u001b[39m\u001b[31mwhile (l < r) {}\u001b[39m\n                  ^\n\u001b[31mSyntaxError\u001b[39m\u001b[31m:\u001b[39m invalid syntax\n"
     ]
    }
   ],
   "source": [
    "def is_prime(n):\n",
    "    return n > 1 and all(n % i != 0 for i in range(2, int(n**0.5) + 1))\n",
    "\n",
    "def is_palidorm(n):\n",
    "    s = str(n)\n",
    "\n",
    "    l = 0\n",
    "    r = len(s) - 1\n",
    "    while (l < r):\n",
    "        if n[l] != n[r]: return 0\n",
    "        l += 1\n",
    "        r -= 1\n",
    "\n",
    "    return 1\n",
    "\n",
    "\n",
    "nums = [int(num) for num in input().split()]\n",
    "\n",
    "print([i for i, var in enumerate(nums) if is_prime(var)])\n",
    "print([i for i, var in enumerate(nums) if is_palidorm(var)])\n",
    "print([i for i, var in enumerate(nums) if is_prime(var) and is_palidorm(var)])"
   ]
  },
  {
   "cell_type": "code",
   "execution_count": null,
   "id": "e2f8bb36-be8d-4918-976c-f36b659c5d92",
   "metadata": {},
   "outputs": [],
   "source": [
    "#7\n",
    "\"\"\"Используя вложенные вызовы map, выполните операции с матрицей:\n",
    "1) Умножьте каждый элемент на 2\n",
    "2) Транспонируйте матрицу\"\"\""
   ]
  },
  {
   "cell_type": "code",
   "execution_count": null,
   "id": "e6220c55-15bc-4fdf-ac90-58f0a37a3d7e",
   "metadata": {},
   "outputs": [
    {
     "name": "stdout",
     "output_type": "stream",
     "text": [
      "[2, 4, 6]\n",
      "[8, 10, 12]\n",
      "[14, 16, 18]\n",
      "\n",
      "[2, 8, 14]\n",
      "[4, 10, 16]\n",
      "[6, 12, 18]\n"
     ]
    }
   ],
   "source": [
    "mtrx = [[1, 2, 3], [4, 5, 6], [7, 8, 9]]\n",
    "\n",
    "mtrx = list(map(lambda x: list(map(lambda x: x * 2, x)), mtrx))\n",
    "\n",
    "for i in mtrx: print(i)\n",
    "\n",
    "print()\n",
    "\n",
    "mtrx = list(map(list, map(lambda *x: x, *mtrx)))\n",
    "\n",
    "for i in mtrx: print(i)"
   ]
  },
  {
   "cell_type": "code",
   "execution_count": null,
   "id": "c220c4c4-ba01-4200-b72b-043b22f3cc43",
   "metadata": {},
   "outputs": [],
   "source": [
    "#8\n",
    "\"\"\" Напишите программу, которая удваивает четные числа и оставляет нечетные без изменения. Используйте lambda с map.\"\"\""
   ]
  },
  {
   "cell_type": "code",
   "execution_count": null,
   "id": "9d842d12-46a4-4f34-bb62-ee3ab86fdae7",
   "metadata": {},
   "outputs": [],
   "source": [
    "nums = [int(num) for num in input().split()]\n",
    "\n",
    "print(*map(lambda x: x if x % 2 else x * 2, nums))"
   ]
  },
  {
   "cell_type": "code",
   "execution_count": null,
   "id": "db57ca8a-0cc0-4eb0-a8b1-16ad82f34fb9",
   "metadata": {},
   "outputs": [],
   "source": [
    "#9\n",
    "\"\"\"Отфильтруйте слова длиннее 4 символов и преобразуйте их в верхний регистр. Используйте lambda с filter и map. \"\"\""
   ]
  },
  {
   "cell_type": "code",
   "execution_count": 18,
   "id": "42bba354-0bf9-4f46-8128-0fafcee953b4",
   "metadata": {},
   "outputs": [
    {
     "name": "stdout",
     "output_type": "stream",
     "text": [
      "OPOPO KOKSIC GOOGLE\n"
     ]
    }
   ],
   "source": [
    "strs = [s for s in input().split()]\n",
    "\n",
    "print(*map(lambda x: x.upper(), filter(lambda x: len(x) > 4, strs)))"
   ]
  },
  {
   "cell_type": "code",
   "execution_count": null,
   "id": "664b02e8-bf59-4163-bdd2-fdd50412da16",
   "metadata": {},
   "outputs": [],
   "source": [
    "#10\n",
    "\"\"\" Для каждого числа в списке найдите сумму его цифр. Используйте lambda с map. \"\"\""
   ]
  },
  {
   "cell_type": "code",
   "execution_count": 26,
   "id": "f0d02f84-461f-430c-b390-8a3c01536294",
   "metadata": {},
   "outputs": [
    {
     "name": "stdout",
     "output_type": "stream",
     "text": [
      "2 3 15\n"
     ]
    }
   ],
   "source": [
    "print(*map(lambda x: sum(int(c) for c in x), input().split()))"
   ]
  },
  {
   "cell_type": "code",
   "execution_count": null,
   "id": "afa2082e-a99b-4136-97c1-00c6177f5229",
   "metadata": {},
   "outputs": [],
   "source": [
    "#11\n",
    "\"\"\"Найдите все числа-палиндромы в списке. Используйте lambda с filter. \"\"\""
   ]
  },
  {
   "cell_type": "code",
   "execution_count": null,
   "id": "0b2f2359-d29c-4a03-9b98-8baee8c8a135",
   "metadata": {},
   "outputs": [],
   "source": [
    "print(*filter(lambda x: x == x[::-1], input().split()))"
   ]
  },
  {
   "cell_type": "code",
   "execution_count": null,
   "id": "8ab45387-15ea-4303-8f34-fc2b6a71b19a",
   "metadata": {},
   "outputs": [],
   "source": [
    "#12\n",
    "\"\"\"Отсортируйте числа по их последней цифре. Используйте lambda с sorted.\"\"\""
   ]
  },
  {
   "cell_type": "code",
   "execution_count": 23,
   "id": "58de4b36-b731-4f9b-b975-14cd35a34292",
   "metadata": {},
   "outputs": [
    {
     "name": "stdout",
     "output_type": "stream",
     "text": [
      "['21', '12', '43', '87', '89']\n"
     ]
    }
   ],
   "source": [
    "print(sorted(input().split(), key=lambda x: x[-1]))"
   ]
  },
  {
   "cell_type": "code",
   "execution_count": null,
   "id": "5e48aba1-ceff-4252-ab6c-fa1932dc5e83",
   "metadata": {},
   "outputs": [],
   "source": [
    "#13\n",
    "\"\"\" Найдите максимальный элемент в каждом вложенном списке. Используйте lambda с map. \"\"\""
   ]
  },
  {
   "cell_type": "code",
   "execution_count": 25,
   "id": "ae605703-068d-49cf-b3b0-d95fc5c1ab97",
   "metadata": {},
   "outputs": [
    {
     "name": "stdout",
     "output_type": "stream",
     "text": [
      "3 6 9\n"
     ]
    }
   ],
   "source": [
    "nums = [[1, 2, 3], [4, 5, 6], [7, 8, 9]]\n",
    "\n",
    "print(*map(lambda x: max(x), nums))"
   ]
  },
  {
   "cell_type": "code",
   "execution_count": null,
   "id": "cfdede9f-bd3d-4e06-a17a-ff69fcf71398",
   "metadata": {},
   "outputs": [],
   "source": [
    "#14\n",
    "\"\"\" Напишите функцию matrix(), которая создает, заполняет и возвращает матрицу заданного размера.\n",
    "При этом (в зависимости от переданных аргументов) она должна вести себя так:\n",
    "\n",
    "matrix() — возвращает матрицу 1×1, в которой единственное число равно нулю;\n",
    "matrix(n) — возвращает матрицу n × n, заполненную нулями;\n",
    "matrix(n, m) — возвращает матрицу из n строк и m столбцов, заполненную нулями;\n",
    "matrix(n, m, value) — возвращает матрицу из n строк и m столбцов, в которой каждый элемент равен числу value.\n",
    "При создании функции пользуйтесь аргументами по умолчанию.\n",
    "\n",
    "Input: \n",
    "print(matrix())         # матрица 1 × 1 из 0\n",
    "print(matrix(3))        # матрица 3 × 3 из 0\n",
    "print(matrix(2, 5))     # матрица 2 × 5 из 0\n",
    "print(matrix(3, 4, 9))  # матрица 3 × 4 из 9\n",
    "               \n",
    "Output:\n",
    "[[0]]\n",
    "[[0, 0, 0], [0, 0, 0], [0, 0, 0]]\n",
    "[[0, 0, 0, 0, 0], [0, 0, 0, 0, 0]]\n",
    "[[9, 9, 9, 9], [9, 9, 9, 9], [9, 9, 9, 9]]                   \"\"\"\n"
   ]
  },
  {
   "cell_type": "code",
   "execution_count": 30,
   "id": "b703a32f-c202-468b-b94e-20b6915f05c2",
   "metadata": {},
   "outputs": [
    {
     "name": "stdout",
     "output_type": "stream",
     "text": [
      "[[0]]\n",
      "[[0, 0, 0], [0, 0, 0], [0, 0, 0]]\n",
      "[[0, 0, 0, 0, 0], [0, 0, 0, 0, 0]]\n",
      "[[9, 9, 9, 9], [9, 9, 9, 9], [9, 9, 9, 9]]\n"
     ]
    }
   ],
   "source": [
    "def matrix(n = 0, m = 0, val = 0):\n",
    "    if n == 0:\n",
    "        return[[val for _ in range(1)] for _ in range(1)]\n",
    "    elif m == 0:\n",
    "        return [[val for _ in range(n)] for _ in range(n)]\n",
    "    else:\n",
    "        return [[val for _ in range(m)] for _ in range(n)]\n",
    "\n",
    "\n",
    "print(matrix())         # матрица 1 × 1 из 0\n",
    "print(matrix(3))        # матрица 3 × 3 из 0\n",
    "print(matrix(2, 5))     # матрица 2 × 5 из 0\n",
    "print(matrix(3, 4, 9))  # матрица 3 × 4 из 9"
   ]
  },
  {
   "cell_type": "code",
   "execution_count": null,
   "id": "d5b5dea3-db35-4ca9-97dd-b4151db8f9cc",
   "metadata": {},
   "outputs": [],
   "source": [
    "#15\n",
    "\"\"\"Напишите функцию count_args(), которая принимает произвольное количество аргументов и возвращает количество переданных в нее аргументов.\n",
    "\n",
    "Input:\n",
    "print(count_args())\n",
    "print(count_args(10))\n",
    "print(count_args('Sasha', 'Python'))\n",
    "print(count_args([], (''), 'a', 12, False))\n",
    "\n",
    "Output:\n",
    "0\n",
    "1\n",
    "2\n",
    "5                     \"\"\""
   ]
  },
  {
   "cell_type": "code",
   "execution_count": 31,
   "id": "e78d6446-bf62-4d1d-83be-e8754d700803",
   "metadata": {},
   "outputs": [
    {
     "name": "stdout",
     "output_type": "stream",
     "text": [
      "0\n",
      "1\n",
      "2\n",
      "5\n"
     ]
    }
   ],
   "source": [
    "def count_args(*args):\n",
    "    return len(args)\n",
    "\n",
    "print(count_args())\n",
    "print(count_args(10))\n",
    "print(count_args('Sasha', 'Python'))\n",
    "print(count_args([], (''), 'a', 12, False))"
   ]
  },
  {
   "cell_type": "code",
   "execution_count": null,
   "id": "79d65e11-d5f2-43a9-b54d-b304d80bd8c5",
   "metadata": {},
   "outputs": [],
   "source": [
    "#16\n",
    "\"\"\" Напишите функцию sq_sum(), которая принимает произвольное количество числовых аргументов и возвращает сумму их квадратов.\n",
    "input:\n",
    "print(sq_sum())\n",
    "print(sq_sum(2))\n",
    "print(sq_sum(1.5, 2.5))\n",
    "print(sq_sum(1, 2, 3))\n",
    "print(sq_sum(1, 2, 3, 4, 5, 6, 7, 8, 9, 10))\n",
    "\n",
    "Output:\n",
    "0\n",
    "4\n",
    "8.5\n",
    "14\n",
    "385           \"\"\""
   ]
  },
  {
   "cell_type": "code",
   "execution_count": 32,
   "id": "9d16bc93-3af7-4a21-a371-f3e0c016bd97",
   "metadata": {},
   "outputs": [
    {
     "name": "stdout",
     "output_type": "stream",
     "text": [
      "0\n",
      "4\n",
      "8.5\n",
      "14\n",
      "385\n"
     ]
    }
   ],
   "source": [
    "def sq_sum(*nums):\n",
    "    return sum(map(lambda x: x*x, nums))\n",
    "\n",
    "print(sq_sum())\n",
    "print(sq_sum(2))\n",
    "print(sq_sum(1.5, 2.5))\n",
    "print(sq_sum(1, 2, 3))\n",
    "print(sq_sum(1, 2, 3, 4, 5, 6, 7, 8, 9, 10))"
   ]
  },
  {
   "cell_type": "code",
   "execution_count": null,
   "id": "726d0c0f-85ea-4e80-becb-bcb3f389e12d",
   "metadata": {},
   "outputs": [],
   "source": [
    "#17\n",
    "\"\"\" Напишите функцию mean(), которая принимает произвольное количество аргументов и возвращает \n",
    "среднее арифметическое переданных в нее числовых (int или float) аргументов.\n",
    "\n",
    "Input:\n",
    "print(mean())\n",
    "print(mean(7))\n",
    "print(mean(1.5, True, ['st'], 'bgk', 2.5, (1, 2)))\n",
    "print(mean(True, ['i'], 'k', (1, 2)))\n",
    "print(mean(-1, 2, 3, 10, ('5')))\n",
    "print(mean(1, 2, 3, 4, 5, 6, 7, 8, 9, 10))\n",
    "\n",
    "Output:\n",
    "0.0\n",
    "7.0\n",
    "2.0\n",
    "0.0\n",
    "3.5\n",
    "5.5       \"\"\""
   ]
  },
  {
   "cell_type": "code",
   "execution_count": 43,
   "id": "335eacd9-9aec-4fb2-9751-22b34e472226",
   "metadata": {},
   "outputs": [
    {
     "name": "stdout",
     "output_type": "stream",
     "text": [
      "0.0\n",
      "7.0\n",
      "2.0\n",
      "0.0\n",
      "3.5\n",
      "5.5\n"
     ]
    }
   ],
   "source": [
    "def mean(*args):\n",
    "    values = list(filter(lambda x: type(x) == int or type(x) == float, args))\n",
    "    if len(values) > 0:\n",
    "        return sum(values) / len(values)\n",
    "    else:\n",
    "        return 0.0\n",
    "\n",
    "print(mean())\n",
    "print(mean(7))\n",
    "print(mean(1.5, True, ['st'], 'bgk', 2.5, (1, 2)))\n",
    "print(mean(True, ['i'], 'k', (1, 2)))\n",
    "print(mean(-1, 2, 3, 10, ('5')))\n",
    "print(mean(1, 2, 3, 4, 5, 6, 7, 8, 9, 10))"
   ]
  },
  {
   "cell_type": "code",
   "execution_count": null,
   "id": "79b17678-2d1a-4ed7-aea8-a898a8c91d03",
   "metadata": {},
   "outputs": [],
   "source": [
    "#18\n",
    "\"\"\"Напишите функцию greet(), которая принимает произвольное количество аргументов строк имен \n",
    "(как минимум ОДНО) и возвращает приветствие в соответствии с образцом.\n",
    "\n",
    "Input:\n",
    "print(greet('Sasha'))\n",
    "print(greet('Sasha', 'Pasha'))\n",
    "print(greet('Sasha', 'Pasha', 'Masha'))\n",
    "\n",
    "Output:\n",
    "Hello, Sasha!\n",
    "Hello, Sasha and Pasha!\n",
    "Hello, Sasha and Pasha and Masha!   \"\"\"\n"
   ]
  },
  {
   "cell_type": "code",
   "execution_count": 45,
   "id": "cff3f353-107d-4264-8816-bf4235624809",
   "metadata": {},
   "outputs": [
    {
     "name": "stdout",
     "output_type": "stream",
     "text": [
      "Hello, Sasha!\n",
      "Hello, Sasha and Pasha!\n",
      "Hello, Sasha and Pasha and Masha!\n"
     ]
    }
   ],
   "source": [
    "def greet(*names):\n",
    "    return f'Hello, {' and '.join(names)}!'\n",
    "\n",
    "print(greet('Sasha'))\n",
    "print(greet('Sasha', 'Pasha'))\n",
    "print(greet('Sasha', 'Pasha', 'Masha'))"
   ]
  },
  {
   "cell_type": "code",
   "execution_count": null,
   "id": "f946affb-1d80-4c32-a0d0-b16f9f6a950b",
   "metadata": {},
   "outputs": [],
   "source": [
    "#19\n",
    "\"\"\"Напишите функцию print_products(), которая принимает произвольное количество аргументов и выводит список продуктов (любая непустая строка)\n",
    "по образцу: <номер продукта>) <название продукта> (нумерация продуктов начинается с единицы). \n",
    "Если среди переданных аргументов нет ни одного продукта, необходимо вывести текст Нет продуктов.\n",
    "Обратите внимание на то, что функция должна принимать не список, а именно произвольное количество аргументов.\n",
    "\n",
    "Input1:\n",
    "print_products('Бананы', [1, 2], ('Battery',), 'Яблоки', '', 'Макароны', 5, True)\n",
    "Output1:\n",
    "1) Бананы\n",
    "2) Яблоки\n",
    "3) Макароны\n",
    "\n",
    "Input2:\n",
    "print_products([4], {}, 1, 2, {'Science'}, '') \n",
    "Output2:\n",
    "Нет продуктов   \"\"\""
   ]
  },
  {
   "cell_type": "code",
   "execution_count": 50,
   "id": "6b357019-b3f5-4a57-848c-1ad13c85cf2c",
   "metadata": {},
   "outputs": [
    {
     "name": "stdout",
     "output_type": "stream",
     "text": [
      "1) Бананы\n",
      "2) Яблоки\n",
      "3) Макароны\n",
      "\n",
      "Нет продктов\n"
     ]
    }
   ],
   "source": [
    "def print_products(*args):\n",
    "    products = list(filter(lambda x: type(x) == str and not x.isspace() and x != '', args))\n",
    "\n",
    "    if len(products) == 0: \n",
    "        print(\"Нет продктов\")\n",
    "        return\n",
    "\n",
    "    for i, p in enumerate(products):\n",
    "        print(f'{i + 1}) {p}')\n",
    "\n",
    "print_products('Бананы', [1, 2], ('Battery',), 'Яблоки', '', 'Макароны', 5, True)\n",
    "print()\n",
    "print_products([4], {}, 1, 2, {'Science'}, '', '   ') "
   ]
  },
  {
   "cell_type": "code",
   "execution_count": null,
   "id": "d40d1c48-8a0a-4338-aced-d2d3532696f8",
   "metadata": {},
   "outputs": [],
   "source": [
    "#20\n",
    "\"\"\"Напишите функцию info_kwargs(), которая принимает произвольное количество именованных аргументов и \n",
    "печатает именованные аргументы в соответствии с образцом: <имя аргумента>: \n",
    "<значение аргумента>, при этом имена аргументов следуют в алфавитном порядке (по возрастанию).\n",
    "\n",
    "Input1:\n",
    "info_kwargs(first_name='Ivan', last_name='Petrov', age=28, job='Scientist') \n",
    "Output1:\n",
    "age: 28\n",
    "first_name: Ivan\n",
    "job: Scientist\n",
    "last_name: Petrov     \"\"\""
   ]
  },
  {
   "cell_type": "code",
   "execution_count": 56,
   "id": "03221c31-592b-4ec5-860b-c2974ba24df3",
   "metadata": {},
   "outputs": [
    {
     "name": "stdout",
     "output_type": "stream",
     "text": [
      "age: 28\n",
      "first_name: Ivan\n",
      "job: Scientist\n",
      "last_name: Petrov\n"
     ]
    }
   ],
   "source": [
    "def info_kwargs(**kvargs):\n",
    "    a = sorted(kvargs.items(), key=lambda x: x[0])\n",
    "\n",
    "    for k, v in a:\n",
    "        print(f'{k}: {v}')\n",
    "\n",
    "info_kwargs(first_name='Ivan', last_name='Petrov', age=28, job='Scientist') "
   ]
  },
  {
   "cell_type": "code",
   "execution_count": null,
   "id": "3c9fe2ae",
   "metadata": {},
   "outputs": [],
   "source": []
  }
 ],
 "metadata": {
  "kernelspec": {
   "display_name": "Python 3",
   "language": "python",
   "name": "python3"
  },
  "language_info": {
   "codemirror_mode": {
    "name": "ipython",
    "version": 3
   },
   "file_extension": ".py",
   "mimetype": "text/x-python",
   "name": "python",
   "nbconvert_exporter": "python",
   "pygments_lexer": "ipython3",
   "version": "3.13.9"
  }
 },
 "nbformat": 4,
 "nbformat_minor": 5
}
