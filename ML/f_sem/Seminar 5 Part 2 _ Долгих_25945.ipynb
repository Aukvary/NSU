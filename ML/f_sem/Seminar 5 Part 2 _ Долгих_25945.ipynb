{
 "cells": [
  {
   "cell_type": "code",
   "execution_count": null,
   "id": "236d73e4-fae3-496f-95b2-201a88618ae2",
   "metadata": {},
   "outputs": [],
   "source": [
    "# Recursion"
   ]
  },
  {
   "cell_type": "code",
   "execution_count": null,
   "id": "3e67ec60-881c-4e8a-b843-17596190ff06",
   "metadata": {},
   "outputs": [],
   "source": [
    "#21\n",
    "\"\"\"Напишите функцию, которая принимает список любой глубины вложенности и возвращает новый \"плоский\" список,\n",
    "содержащий все элементы исходного списка в том же порядке, но без вложенности. \n",
    "\n",
    "Input1:\n",
    "[1, [2, [3, [4, 5]], 6], 7]\n",
    "Output1:\n",
    "[1, 2, 3, 4, 5, 6, 7]\n",
    "\n",
    "Input2:\n",
    "[1, 2, 3, 4, 5]\n",
    "Output2:\n",
    "[1, 2, 3, 4, 5]\n",
    "\n",
    "Input3:\n",
    "[[[[1]]]]\n",
    "Output3:\n",
    "[1]\n",
    "\n",
    "Input4:\n",
    "[1, [2], [3, [4, [5]]]]\n",
    "Output4:\n",
    "[1, 2, 3, 4, 5]\n",
    "\n",
    "Input5:\n",
    "[]\n",
    "Output5:\n",
    "[]\n",
    "                                                 \"\"\""
   ]
  },
  {
   "cell_type": "code",
   "execution_count": 3,
   "id": "8a14f20f-f910-48be-9576-64473e99193e",
   "metadata": {},
   "outputs": [
    {
     "name": "stdout",
     "output_type": "stream",
     "text": [
      "[1, 2, 3, 4, 5, 6, 7]\n"
     ]
    }
   ],
   "source": [
    "def func(data):\n",
    "    res = []\n",
    "    \n",
    "    for el in data:\n",
    "        match el:\n",
    "            case list():\n",
    "                res += func(el)\n",
    "            case int():\n",
    "                res.append(el)\n",
    "\n",
    "    return res\n",
    "\n",
    "\n",
    "print(func([1, [2, [3, [4, 5]], 6], 7]))"
   ]
  },
  {
   "cell_type": "code",
   "execution_count": null,
   "id": "31605f0e-8d8d-4510-ae02-9b9af264bf83",
   "metadata": {},
   "outputs": [],
   "source": [
    "# Modules"
   ]
  },
  {
   "cell_type": "code",
   "execution_count": null,
   "id": "d00e9b2d-9fdb-4b86-a070-006a6892a2d1",
   "metadata": {},
   "outputs": [],
   "source": [
    "#22\n",
    "\"\"\" Создайте модуль КАЛЬКУЛЯТОР, в котором содержатся функции сложения, вычитания, умножения, деления (/, // и %), \n",
    "возведения в степень, нахождения факториала числа, определение явялется ли число простым,\n",
    "нахождение среднего, создание матрицы, транспонирование матрицы, вычисление площадей (круг, квадрат, теругольник, трапеция).\n",
    "Для удобства модуль может содержать константы. Внутри модуля необходимо сделать документацию (описание что делает каждая функция) и отладку\n",
    "(рекоммендуется).\n",
    "\"\"\""
   ]
  },
  {
   "cell_type": "code",
   "execution_count": null,
   "id": "f3cb02e5-f754-4d57-8093-6e7fa93edadd",
   "metadata": {},
   "outputs": [
    {
     "name": "stdout",
     "output_type": "stream",
     "text": [
      "dict_items([('__wrapped__', <function sum at 0x0000020006464B80>)])\n"
     ]
    }
   ],
   "source": [
    "from calculator import sum\n",
    "\n"
   ]
  },
  {
   "cell_type": "code",
   "execution_count": null,
   "id": "4668a4f5-25e7-4e4a-8403-05ae28cb1e24",
   "metadata": {},
   "outputs": [],
   "source": [
    "#23\n",
    "\"\"\" Создайте модуль СТРОКА, в котором содержится информация о работе со строками: делает реверс строки, определяет является ли строка палиндромом,\n",
    "считает количество гласных букв, считает количество согласных букв, создает функцию, где находятся все знаки -+,.;% и тд,\n",
    "проводит проверку являются ли слова анаграммами, форматирование номера телефона в Российском формате с 8... на +7...\n",
    "Внутри модуля необходимо сделать документацию (описание что делает каждая функция) и отладку (рекоммендуется). \"\"\""
   ]
  },
  {
   "cell_type": "code",
   "execution_count": null,
   "id": "e6eca0dd-635e-4d08-97c1-17596014a94c",
   "metadata": {},
   "outputs": [],
   "source": [
    "# Напишите Ваш код здесь"
   ]
  },
  {
   "cell_type": "code",
   "execution_count": null,
   "id": "2481696e-c9d4-4393-b52c-206066176f52",
   "metadata": {},
   "outputs": [],
   "source": [
    "#24\n",
    "\"\"\"На основании 2-х предыдущих модулей напишите программу, в которой можно реализовать работу данных модулей.\n",
    "Программа может быть произвольной, главное чтобы она была логичной и давала возможность воспользоваться функциями модулей\n",
    "(не забудьте импортировать свои модули)\"\"\""
   ]
  },
  {
   "cell_type": "code",
   "execution_count": null,
   "id": "fa3a8867-7f0c-4d64-ae26-a967956a6bfe",
   "metadata": {},
   "outputs": [],
   "source": [
    "# Напишите Ваш код здесь"
   ]
  },
  {
   "cell_type": "code",
   "execution_count": null,
   "id": "802bb278-a03b-4ac8-8386-eeeefa96d4fb",
   "metadata": {},
   "outputs": [],
   "source": [
    "#25\n",
    "\"\"\"Попросить у преподавателя текстовый файл, прочитать его, считать данные и построить по ним график.\n",
    "Используйте библиотеку matplotlib и модуль pyplot (as plt)\"\"\""
   ]
  },
  {
   "cell_type": "code",
   "execution_count": null,
   "id": "271d20af-9bf6-44de-aa14-bbb90603d8ac",
   "metadata": {},
   "outputs": [],
   "source": [
    "# Напишите Ваш код здесь"
   ]
  },
  {
   "cell_type": "code",
   "execution_count": null,
   "id": "e1dabdca-4110-4d45-b8fc-49dab16c12b3",
   "metadata": {},
   "outputs": [],
   "source": [
    "#26\n",
    "\"\"\"Вольт-амперная характеристика. Создайте файл voltage_current.csv, запишите в него даанные самостоятельно (запись данных из кода), \n",
    "потом прочитайте файл и постройте график зависимости напряжения от тока. Вы можете использовать другие данные, \n",
    "\n",
    "Пример для работы\n",
    "voltage,current\n",
    "0.0,0.00\n",
    "0.5,0.12\n",
    "1.0,0.25\n",
    "1.5,0.38\n",
    "2.0,0.50\n",
    "2.5,0.63\n",
    "3.0,0.75\n",
    "3.5,0.88\n",
    "4.0,1.00       \"\"\""
   ]
  },
  {
   "cell_type": "code",
   "execution_count": null,
   "id": "d10163c5-88b1-4c93-a41f-e238d21f783c",
   "metadata": {},
   "outputs": [],
   "source": [
    "# Напишите Ваш код здесь"
   ]
  }
 ],
 "metadata": {
  "kernelspec": {
   "display_name": "Python 3",
   "language": "python",
   "name": "python3"
  },
  "language_info": {
   "codemirror_mode": {
    "name": "ipython",
    "version": 3
   },
   "file_extension": ".py",
   "mimetype": "text/x-python",
   "name": "python",
   "nbconvert_exporter": "python",
   "pygments_lexer": "ipython3",
   "version": "3.13.7"
  }
 },
 "nbformat": 4,
 "nbformat_minor": 5
}
