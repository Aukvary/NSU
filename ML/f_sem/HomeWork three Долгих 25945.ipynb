{
 "cells": [
  {
   "cell_type": "code",
   "execution_count": null,
   "id": "234414f5-4bcd-4a17-9b9e-dbc4160d03cb",
   "metadata": {},
   "outputs": [],
   "source": [
    "# Home Work one\n",
    "# Last name - напишите Вашу фамилию в названии файла\n",
    "# Group number - укажите Вашу группу в названии файла"
   ]
  },
  {
   "cell_type": "code",
   "execution_count": null,
   "id": "be0851bc-6cd9-45e8-9676-84f77b4f87f5",
   "metadata": {},
   "outputs": [],
   "source": [
    "#1\n",
    "\"\"\"На вход программе подаётся строка текста на английском языке, в которой нужно зашифровать все слова. \n",
    "Каждое слово строки следует зашифровать с помощью шифра Цезаря (циклического сдвига на длину этого слова). \n",
    "Строчные буквы при этом остаются строчными, а прописные – прописными. Гарантируется, что между различными словами присутствует один пробел.\n",
    "На вход программе подаётся строка текста на английском языке.\n",
    "Программа должна вывести зашифрованный текст в соответствии с условием задачи.\n",
    "\n",
    "Input 1:\n",
    "Day, mice. \"Year\" is a mistake!\n",
    "Output 1:\n",
    "Gdb, qmgi. \"Ciev\" ku b tpzahrl!\n",
    "\n",
    "Input 2:\n",
    "my name is Python!\n",
    "Output 2:\n",
    "oa reqi ku Veznut!          \"\"\""
   ]
  },
  {
   "cell_type": "code",
   "execution_count": 15,
   "id": "0ad1036f-73b7-4144-a704-994f17b48061",
   "metadata": {},
   "outputs": [
    {
     "name": "stdout",
     "output_type": "stream",
     "text": [
      "oa reqi ku Veznut!\n"
     ]
    }
   ],
   "source": [
    "def inscription(s, n):\n",
    "    res = ''\n",
    "    for c in s:\n",
    "        index = ord(c) + n\n",
    "        if index > ord('z') or ord('Z') < index < ord('a'):\n",
    "            index -= 26\n",
    "\n",
    "        res += chr(index)\n",
    "\n",
    "    return res\n",
    "\n",
    "from string import ascii_letters as chars\n",
    "s = input()\n",
    "res = ''\n",
    "temp = ''\n",
    "l = 0\n",
    "for c in s:\n",
    "    if c in chars:\n",
    "        temp += c\n",
    "        l += 1\n",
    "    else:\n",
    "        res += inscription(temp, l)\n",
    "        temp = ''\n",
    "        l = 0\n",
    "        res += c\n",
    "\n",
    "\n",
    "\n",
    "print(res)\n"
   ]
  },
  {
   "cell_type": "code",
   "execution_count": null,
   "id": "645e846d-cd57-462c-968a-409348fb3a0b",
   "metadata": {},
   "outputs": [],
   "source": [
    "#2\n",
    "\"\"\"На вход программе подаются число n, а затем n строк, содержащих целые числа в порядке возрастания. Из данных строк формируются списки чисел. \n",
    "Напишите программу, которая объединяет указанные списки в один отсортированный список с помощью функции quick_merge(), а затем выводит его.\n",
    "На вход программе подаются натуральное число n, а затем n строк, содержащих целые числа в порядке возрастания, разделённые символом пробела.\n",
    "Программа должна вывести элементы окончательного отсортированного списка каждое через пробел.\n",
    "Input 1:\n",
    "3\n",
    "1 2 3 4\n",
    "5 6 7\n",
    "10 11 17\n",
    "Output 1:\n",
    "1 2 3 4 5 6 7 10 11 17\n",
    "\n",
    "Input 2:\n",
    "4\n",
    "10 20\n",
    "1 15\n",
    "5 17\n",
    "8 13 19\n",
    "Output 2:\n",
    "1 5 8 10 13 15 17 19 20        \"\"\""
   ]
  },
  {
   "cell_type": "code",
   "execution_count": 11,
   "id": "b7261c08-330d-445d-8c07-d9e2ddbf9c6b",
   "metadata": {},
   "outputs": [
    {
     "name": "stdout",
     "output_type": "stream",
     "text": [
      "[1, 5, 8, 10, 13, 15, 17, 19, 20]\n"
     ]
    }
   ],
   "source": [
    "def quick_merge(a):\n",
    "    res = []\n",
    "    for l in a:\n",
    "        res += l\n",
    "\n",
    "    return sorted(res)\n",
    "\n",
    "a = [[int(num) for num in input().split()] for _ in range(int(input()))]\n",
    "\n",
    "print(quick_merge(a))"
   ]
  },
  {
   "cell_type": "code",
   "execution_count": null,
   "id": "d4d2d4ba-7b42-45a5-ad5e-50a2b51727f9",
   "metadata": {},
   "outputs": [],
   "source": [
    "#3\n",
    "\"\"\"Напишите функцию get_next_prime(num), которая принимает в качестве аргумента натуральное число num и возвращает первое простое число, \n",
    "большее числа num.\n",
    "Input 1:\n",
    "5\n",
    "Output 1:\n",
    "7\n",
    "\n",
    "Input 2:\n",
    "7\n",
    "Output 2:\n",
    "11        \"\"\""
   ]
  },
  {
   "cell_type": "code",
   "execution_count": 15,
   "id": "cd990eb0-7056-4232-971c-68abc849caf8",
   "metadata": {},
   "outputs": [
    {
     "name": "stdout",
     "output_type": "stream",
     "text": [
      "11\n"
     ]
    }
   ],
   "source": [
    "def is_prime(n):\n",
    "    return n > 1 and all(n % i != 0 for i in range(2, int(n**0.5) + 1))\n",
    "\n",
    "for n in range(int(input()) + 1, 10**10):\n",
    "    if is_prime(n):\n",
    "        print(n)\n",
    "        break"
   ]
  },
  {
   "cell_type": "code",
   "execution_count": null,
   "id": "0447c813-681e-4e49-bc2c-60f1e4bb2a16",
   "metadata": {},
   "outputs": [],
   "source": [
    "#4\n",
    "\"\"\"Напишите функцию is_one_away(word1, word2), которая принимает в качестве аргументов два слова word1 и word2. Функция должна возвращать значение\n",
    "True, если слова имеют одинаковую длину и отличаются одним символом на одной и той же позиции, или False в противном случае.\"\"\""
   ]
  },
  {
   "cell_type": "code",
   "execution_count": 20,
   "id": "d9b202dd-5fe8-473d-9381-cf4d6ab6088c",
   "metadata": {},
   "outputs": [
    {
     "name": "stdout",
     "output_type": "stream",
     "text": [
      "False\n"
     ]
    }
   ],
   "source": [
    "def is_one_away(w1, w2):\n",
    "    if len(w1) != len(w2): return 0\n",
    "\n",
    "    dif_count = 0\n",
    "\n",
    "    for i in range(len(w1)):\n",
    "        if w1[i] != w2[i]:\n",
    "            dif_count += 1\n",
    "\n",
    "        if dif_count > 2:\n",
    "            return 0\n",
    "        \n",
    "    return dif_count\n",
    "\n",
    "print(is_one_away(input(), input()) == 1)"
   ]
  },
  {
   "cell_type": "code",
   "execution_count": null,
   "id": "cd9c6ff4-e50c-4a01-8fce-acd688831cb7",
   "metadata": {},
   "outputs": [],
   "source": [
    "#5\n",
    "\"\"\"Саша наконец-то открыл свой банк, в котором используются специальные банкоматы с необычным паролем.\n",
    "Действительный пароль Сашиного банка имеет вид a:b:c, где a, b и c – натуральные числа. \n",
    "Поскольку Саша фанатеет от математики, то он решил:\n",
    "число a – должно быть палиндромом;\n",
    "число b – должно быть простым;\n",
    "число c – должно быть чётным.\n",
    "Напишите функцию is_valid_password(password), которая принимает в качестве аргумента строковое значение пароля password и возвращает значение True,\n",
    "если пароль является действительным паролем банка, или False в противном случае. \n",
    "Input 1:\n",
    "15551:7:290\n",
    "Output 1:\n",
    "True\n",
    "\n",
    "Input 2:\n",
    "155561:7:290\n",
    "Output 2:\n",
    "False                          \"\"\""
   ]
  },
  {
   "cell_type": "code",
   "execution_count": 26,
   "id": "1e1fb598-8bd0-41f6-b0b0-a34d5769af30",
   "metadata": {},
   "outputs": [
    {
     "name": "stdout",
     "output_type": "stream",
     "text": [
      "False\n"
     ]
    }
   ],
   "source": [
    "def is_prime(n):\n",
    "    return n > 1 and all(n % i != 0 for i in range(2, int(n**0.5) + 1))\n",
    "def is_polidrom(n):\n",
    "    s = str(n)\n",
    "    l = 0\n",
    "    r = len(s) - 1\n",
    "\n",
    "    while l < r:\n",
    "        if s[l] != s[r]:\n",
    "            return 0\n",
    "        l += 1\n",
    "        r -= 1\n",
    "        \n",
    "    return 1\n",
    "\n",
    "passwd = [int(n) for n in input().split(':')]\n",
    "\n",
    "valid = 1\n",
    "\n",
    "valid &= is_polidrom(passwd[0])\n",
    "valid &= is_prime(passwd[1])\n",
    "valid &= passwd[2] % 2 == 0\n",
    "\n",
    "print(valid == 1)"
   ]
  },
  {
   "cell_type": "code",
   "execution_count": null,
   "id": "d8a44fb1-33a7-4e90-aa88-9c70d0d8522c",
   "metadata": {},
   "outputs": [],
   "source": [
    "#6\n",
    "\"\"\"Напишите программу, которая выводит максимальный элемент в заштрихованной области квадратной матрицы.\n",
    "* - - - - *\n",
    "* * - - * *\n",
    "* * * * * *\n",
    "* * * * * *\n",
    "* * - - * *\n",
    "* - - - - *\n",
    "\n",
    "На вход программе подается натуральное число n – количество строк и столбцов в матрице, затем элементы матрицы (целые числа) построчно через пробел.\n",
    "Программа должна вывести одно число – максимальный элемент в заштрихованной области квадратной матрицы.\n",
    "Примечание. Элементы диагоналей также учитываются.\"\"\"\n",
    "\"\"\"\n",
    "Input 1:\n",
    "3\n",
    "1 4 5\n",
    "6 7 8\n",
    "1 1 6\n",
    "Output 1:\n",
    "8\n",
    "\n",
    "Input 2:\n",
    "4\n",
    "0 1 4 6\n",
    "0 0 2 5\n",
    "0 0 0 7\n",
    "0 0 0 0\n",
    "Output 2:\n",
    "7\n",
    "\n",
    "Input 3:\n",
    "2\n",
    "6 0\n",
    "7 9\n",
    "Output 3:\n",
    "9                   \"\"\""
   ]
  },
  {
   "cell_type": "code",
   "execution_count": null,
   "id": "04a7f7fa-f508-4695-a502-548275cd828c",
   "metadata": {},
   "outputs": [
    {
     "name": "stdout",
     "output_type": "stream",
     "text": [
      "7\n"
     ]
    }
   ],
   "source": [
    "n = int(input())\n",
    "mtrx = [[int(num) for num in input().split()] for _ in range(n)]\n",
    "\n",
    "t = 0\n",
    "b = n - 1\n",
    "l = 0\n",
    "r = n - 1\n",
    "mx = 0\n",
    "\n",
    "while t <= b:\n",
    "    for i in range(t, b + 1):\n",
    "        mx = max(mx, mtrx[i][l])\n",
    "        mx = max(mx, mtrx[i][r])\n",
    "\n",
    "    t += 1\n",
    "    b -= 1\n",
    "    l += 1\n",
    "    r -= 1\n",
    "\n",
    "print(mx)\n",
    "\n"
   ]
  },
  {
   "cell_type": "code",
   "execution_count": null,
   "id": "1c60fa02-964f-48b6-9691-1a01ebf78c30",
   "metadata": {},
   "outputs": [],
   "source": [
    "#7\n",
    "\"\"\"На вход программе подаются два натуральных числа n и m – количество строк и столбцов в матрице, затем n строк по \n",
    "m целых чисел в каждой, отделенных символом пробела.\n",
    "\n",
    "Напишите программу, которая находит индексы (строку и столбец) первого вхождения максимального элемента.\n",
    "\n",
    "На вход программе на разных строках подаются два числа n и m – количество строк и столбцов в матрице, затем сами элементы матрицы построчно\n",
    "через пробел.\n",
    "\n",
    "Программа должна вывести два числа: номер строки и номер столбца, в которых стоит наибольший элемент таблицы. \n",
    "Если таких элементов несколько, то выводится тот, у которого меньше номер строки, а если номера строк равны, то тот, у которого меньше номер столбца.\n",
    "\n",
    "Примечание. Считайте, что нумерация строк и столбцов начинается с нуля.\"\"\"\n",
    "\"\"\"\n",
    "Input 1:\n",
    "3\n",
    "4\n",
    "0 3 2 4\n",
    "2 3 5 5\n",
    "5 1 2 3\n",
    "Output 1:\n",
    "1 2\n",
    "\n",
    "Input 2:\n",
    "3\n",
    "3\n",
    "5 3 4\n",
    "2 3 0\n",
    "4 1 5\n",
    "Output 2:\n",
    "0 0\n",
    "\n",
    "Input 3:\n",
    "2\n",
    "8\n",
    "4 3 4 4 1 2 2 3\n",
    "2 3 0 3 3 4 4 5\n",
    "Output 3:\n",
    "1 7\n",
    "\n",
    "Input 4:\n",
    "6\n",
    "8\n",
    "-4 -3 -4 -4 -1 -8 -2 -3\n",
    "-2 -3 -9 -7 -3 -4 -4 -5\n",
    "-4 -3 -4 -4 -1 -2 -2 -3\n",
    "-2 -3 -9 -3 -3 -1 -4 -5\n",
    "-5 -3 -4 -4 -1 -2 -2 -3\n",
    "-2 -3 -7 -8 -3 -4 -4 -5\n",
    "Sample Output 4:\n",
    "0 4                      \"\"\""
   ]
  },
  {
   "cell_type": "code",
   "execution_count": 2,
   "id": "1f2784be-7785-4add-9bba-806257457227",
   "metadata": {},
   "outputs": [
    {
     "name": "stdout",
     "output_type": "stream",
     "text": [
      "0 4\n"
     ]
    }
   ],
   "source": [
    "n = int(input())\n",
    "m = int(input())\n",
    "\n",
    "mtrx = [[int(num) for num in input().split()] for _ in range(n)]\n",
    "\n",
    "mx = float('-inf')\n",
    "r: int\n",
    "c: int\n",
    "\n",
    "for i in range(n):\n",
    "    for j in range(m):\n",
    "        if mx < mtrx[i][j]:\n",
    "            mx = mtrx[i][j]\n",
    "            r = i\n",
    "            c = j\n",
    "\n",
    "\n",
    "print(r, c)"
   ]
  },
  {
   "cell_type": "code",
   "execution_count": null,
   "id": "6c3a4cae-3e0e-4ddc-83e3-dde3f50500a1",
   "metadata": {},
   "outputs": [],
   "source": [
    "#8\n",
    "\"\"\"Робот-разведчик движется между контрольными точками. В каждой точке он проводит определенное время на исследования. \n",
    "Вам нужно рассчитать ОБЩЕЕ время миссии, включая:\n",
    "-Время движения между точками\n",
    "-Время пребывания в каждой точке\n",
    "Данные: кортеж точек в формате (x, y, время_пребывания_в_точке)\n",
    "Скорость: постоянная скорость движения робота\n",
    "Задача: вычислить общее время миссии\n",
    "Дано:\n",
    "mission_points = ((0, 0, 5), (3, 0, 10), (3, 4, 15), (0, 0, 8))\n",
    "speed = 2.0\n",
    "\"\"\""
   ]
  },
  {
   "cell_type": "code",
   "execution_count": 5,
   "id": "da58a4df-89eb-490b-aba3-e4f047f460d5",
   "metadata": {},
   "outputs": [
    {
     "name": "stdout",
     "output_type": "stream",
     "text": [
      "45.0\n"
     ]
    }
   ],
   "source": [
    "speed = 2\n",
    "mission_points = ((0, 0, 5), (3, 0, 10), (3, 4, 15), (0, 0, 8))\n",
    "\n",
    "time = 0\n",
    "x = mission_points[0][0]\n",
    "y = mission_points[0][1]\n",
    "for p in mission_points:\n",
    "    time += p[2]\n",
    "    time += (abs(p[0] - x) + abs(p[1] - y)) / 2\n",
    "    x = p[0]\n",
    "    y = p[1]\n",
    "\n",
    "print(time)"
   ]
  },
  {
   "cell_type": "code",
   "execution_count": null,
   "id": "b33d3ff8-980f-49a3-923f-e5712333a073",
   "metadata": {},
   "outputs": [],
   "source": [
    "#9\n",
    "\"\"\"Имеются два текстовых файла (отправлены вместе с файлом ДЗ), содержащие информацию о студентах двух учебных групп. \n",
    "В каждом файле данные представлены в следующем формате: фамилия студента и его средний балл за семестр, разделенные пробелом.\n",
    "\n",
    "Напишите программу,которая выполняет следующие действия:\n",
    "\n",
    "1.Считывает данные о студентах из обоих файлов\n",
    "\n",
    "2.Проводит анализ успеваемости, разделяя студентов на две категории:\n",
    "-С высокой успеваемостью (средний балл 4.0 и выше)\n",
    "-С низкой успеваемостью (средний балл ниже 4.0)\n",
    "\n",
    "3.Создает два отчетных файла:\n",
    "-\"хорошая_успеваемость.txt\" - список студентов с высокой успеваемостью\n",
    "-\"плохая_успеваемость.txt\" - список студентов с низкой успеваемостью\n",
    "\n",
    "4. Отображает на экране содержимое созданных файлов, сначала список студентов с высокой успеваемостью, затем - с низкой\n",
    "\n",
    "5. Приводит статистику:\n",
    "\n",
    "-Всего студентов: \n",
    "-С хорошей успеваемостью: \n",
    "-С плохой успеваемостью: \n",
    "\n",
    "\"\"\""
   ]
  },
  {
   "cell_type": "code",
   "execution_count": 32,
   "id": "c015c02a-60af-422c-8fa2-89b23868585f",
   "metadata": {},
   "outputs": [
    {
     "name": "stdout",
     "output_type": "stream",
     "text": [
      "список студентов с высокой успеваемостью:\n",
      "Бронский 34.48275862\n",
      "Васильева 44.82758621\n",
      "Галкин 48.27586207\n",
      "Гришан 82.75862069\n",
      "Долгих 89.65517241\n",
      "Ефимов 34.48275862\n",
      "Жилкин 89.65517241\n",
      "Здорикова 44.82758621\n",
      "Коршунова 75.86206897\n",
      "Костяков 10.34482759\n",
      "Кравченко 79.31034483\n",
      "Кривцов 41.37931034\n",
      "Литвин 89.65517241\n",
      "Лузгин 79.31034483\n",
      "Маевский 44.82758621\n",
      "Неклюдов 93.10344828\n",
      "Овсянников 37.93103448\n",
      "Пронько 82.75862069\n",
      "Пухов 96.55172414\n",
      "Старцева 37.93103448\n",
      "Томкович 82.75862069\n",
      "Фадеенко 96.55172414\n",
      "Губарев 89.65517241\n",
      "Дорохина 82.75862069\n",
      "Журин 37.93103448\n",
      "Китова 89.65517241\n",
      "Климов 41.37931034\n",
      "Куколева 41.37931034\n",
      "Махарова 37.93103448\n",
      "Мироненко 41.37931034\n",
      "Никитин 96.55172414\n",
      "Никулин 31.03448276\n",
      "Нявро 82.75862069\n",
      "Потапов 34.48275862\n",
      "Таксанов 37.93103448\n",
      "Терентьев 86.20689655\n",
      "Федорова 89.65517241\n",
      "Хамутский 44.82758621\n",
      "Хасанова 37.93103448\n",
      "Чувахин 86.20689655\n",
      "Шабаров 86.20689655\n",
      "Шеин 79.31034483\n",
      "\n",
      "список студентов с низкой успеваемостью:\n",
      "Черепков 0\n",
      "Южанинова 0\n",
      "\n",
      "Всего студентов: 44\n",
      "С хорошей успеваемостью: 42\n",
      "С плохой успеваемостью: 2\n"
     ]
    }
   ],
   "source": [
    "students = []\n",
    "with open('Group_45.txt', 'r', encoding='utf-8') as file:\n",
    "    for line in file.readlines():\n",
    "        students.append(line.split())\n",
    "\n",
    "with open('Group_49.txt', 'r', encoding='utf-8') as file:\n",
    "    for line in file.readlines():\n",
    "        students.append(line.split())\n",
    "\n",
    "good = [s for s in students if float(s[1]) >= 4.0]\n",
    "bad = [s for s in students if float(s[1]) < 4.0]\n",
    "\n",
    "\n",
    "with open('хорошая_успеваемость.txt', 'w+', encoding='utf-8') as file:\n",
    "    for s in good:\n",
    "        file.write(' '.join(s) + '\\n')\n",
    "\n",
    "    file.seek(0)\n",
    "    print('список студентов с высокой успеваемостью:')\n",
    "    for line in file.readlines():\n",
    "        print(line[:-1])\n",
    "\n",
    "print()\n",
    "\n",
    "with open('плохая_успеваемость.txt', 'w+', encoding='utf-8') as file:\n",
    "    for s in bad:\n",
    "        file.write(' '.join(s) + '\\n')\n",
    "    print('список студентов с низкой успеваемостью:')\n",
    "    file.seek(0)\n",
    "\n",
    "    for line in file.readlines():\n",
    "        print(line[:-1])\n",
    "\n",
    "print()\n",
    "\n",
    "\n",
    "print(f'Всего студентов: {len(students)}')\n",
    "print(f'С хорошей успеваемостью: {len(good)}')\n",
    "print(f'С плохой успеваемостью: {len(bad)}')"
   ]
  }
 ],
 "metadata": {
  "kernelspec": {
   "display_name": "Python 3",
   "language": "python",
   "name": "python3"
  },
  "language_info": {
   "codemirror_mode": {
    "name": "ipython",
    "version": 3
   },
   "file_extension": ".py",
   "mimetype": "text/x-python",
   "name": "python",
   "nbconvert_exporter": "python",
   "pygments_lexer": "ipython3",
   "version": "3.13.7"
  }
 },
 "nbformat": 4,
 "nbformat_minor": 5
}
