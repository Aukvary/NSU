{
 "cells": [
  {
   "cell_type": "code",
   "execution_count": null,
   "id": "cbdc5ae8-d938-45c5-9c71-aa3815ee71dc",
   "metadata": {},
   "outputs": [],
   "source": [
    "#1\n",
    "\"\"\"Напишите функцию, которая:\n",
    "1) Принимает вложенный список смешанных типов (числа, строки, списки)\n",
    "2) Находит сумму всех чисел на всех уровнях вложенности\n",
    "3) Игнорирует строки и другие нечисловые типы\n",
    "4) Обрабатывает вложенные словари (суммирует значения-числа)\n",
    "\n",
    "Используйте рекурсию \"\"\""
   ]
  },
  {
   "cell_type": "code",
   "execution_count": 13,
   "id": "6edb277c-d9b9-4d88-b81e-27fbb92d9657",
   "metadata": {},
   "outputs": [
    {
     "name": "stdout",
     "output_type": "stream",
     "text": [
      "10\n"
     ]
    }
   ],
   "source": [
    "def func(data):\n",
    "    res = 0\n",
    "    \n",
    "    for el in data:\n",
    "        match el:\n",
    "            case list():\n",
    "                res += func(el)\n",
    "            case int():\n",
    "                res += el\n",
    "\n",
    "    return res\n",
    "\n",
    "\n",
    "print(func([[1, 2, 3], [1, 2], 1, [\"op\"], 'uuu']))\n",
    "\n"
   ]
  },
  {
   "cell_type": "code",
   "execution_count": null,
   "id": "3ea472c6-7627-4509-bfe2-f6813adf54c2",
   "metadata": {},
   "outputs": [],
   "source": [
    "#2\n",
    "\"\"\"Напишите рекурсивную функцию number_partitions(n), которая находит все способы разбить натуральное число n на сумму натуральных слагаемых.\n",
    "\n",
    "Правила разбиения:\n",
    "1) Слагаемые должны идти в порядке невозрастания (каждое следующее ≤ предыдущему)\n",
    "2) Нужно найти все возможные комбинации\n",
    "3) Использовать рекурсию\n",
    "4) Подсказки для рекурсии:\n",
    "\n",
    "Подумайте о базовом случае: что должно вернуться, когда число для разбиения равно 0?\n",
    "Рекурсивный шаг: если вы берете первое слагаемое x, то оставшуюся часть n - x нужно разбить рекурсивно\n",
    "Ограничение: следующее слагаемое не должно быть больше предыдущего\n",
    "Можно использовать вспомогательный параметр для отслеживания максимального допустимого слагаемого\n",
    "\n",
    "# Число 3 можно разбить тремя способами:\n",
    "# 3 = 3\n",
    "# 3 = 2 + 1  \n",
    "# 3 = 1 + 1 + 1\n",
    "Пример для проверки кода\n",
    "number_partitions(1) → [[1]]\n",
    "number_partitions(2) → [[2], [1, 1]]\n",
    "number_partitions(3) → [[3], [2, 1], [1, 1, 1]]\n",
    "number_partitions(4) → [[4], [3, 1], [2, 2], [2, 1, 1], [1, 1, 1, 1]]\n",
    "\"\"\""
   ]
  },
  {
   "cell_type": "code",
   "execution_count": 43,
   "id": "25f17761-3e3e-4735-927e-cca39476e5fb",
   "metadata": {},
   "outputs": [
    {
     "name": "stdout",
     "output_type": "stream",
     "text": [
      "[[5], [4, 1], [3, 2], [3, 1, 1], [2, 2, 1], [2, 1, 1, 1], [1, 1, 1, 1, 1]]\n"
     ]
    }
   ],
   "source": [
    "def number_partitions(n):\n",
    "    if n == 0:\n",
    "        return [[]]\n",
    "    \n",
    "    res = []\n",
    "    for i in range(1, n + 1):\n",
    "        for j in number_partitions(n - i):\n",
    "            if not j or i >= j[0]:\n",
    "                res.append([i] + j)\n",
    "    \n",
    "    return sorted(res, reverse=True)\n",
    "\n",
    "print(number_partitions(int(input())))"
   ]
  },
  {
   "cell_type": "code",
   "execution_count": null,
   "id": "63bb5120-4643-43bc-baaa-7f46a83fa780",
   "metadata": {},
   "outputs": [],
   "source": [
    "#3 🔋🧂🧪\n",
    "\"\"\" Саша изучает аккумуляторы. Он проводит поиск различных материалов, которые можно использовать в качестве электродов.\n",
    "Основным критерием таких материалов явялется теортеическая емкость, которая для разных соединений естественно разная.\n",
    "Саша вручную считает теоретическую емкость каждого материала и записывает в таблицу. Это занимает очень много времени.\n",
    "Помогите Саше в решении данной задачи.\n",
    "\n",
    "На вход программе подается строка - формула электродного мматериала (пример LiFePO4)\n",
    "Программа должна вывести значение теоретической емкости в формате <ФОРМУЛА> - <ЗНАЧЕНИЕ> мАч/г\n",
    "\n",
    "Расчет теоретической емкости электродного материала производится по формуле:\n",
    "Q = zF/(3.6M), z - число электронов , F - постоянная Фарадея ; F = 96485 , M - молярная масса материала (сумма атомных масс элементов,\n",
    "составляющих материал)\n",
    "\n",
    "Вам необходимо написать модуль - Mendeleev_Table, который содержит в себе элементы таблицы Менделеева и их атомные массы.\n",
    "Вы передает название элемента, он выдает атомную массу элемента.\n",
    "\n",
    "Для простоты словарь с элементами и атомными массами:\n",
    "elements = {\n",
    "    'H': 1.008, 'He': 4.0026, 'Li': 6.94, 'Be': 9.0122, 'B': 10.81, 'C': 12.011, 'N': 14.007, 'O': 15.999,\n",
    "    'F': 18.998, 'Ne': 20.180, 'Na': 22.990, 'Mg': 24.305, 'Al': 26.982, 'Si': 28.085, 'P': 30.974, 'S': 32.06,\n",
    "    'Cl': 35.45, 'Ar': 39.95, 'K': 39.098, 'Ca': 40.078, 'Sc': 44.956, 'Ti': 47.867, 'V': 50.942, 'Cr': 51.996,\n",
    "    'Mn': 54.938, 'Fe': 55.845, 'Co': 58.933, 'Ni': 58.693, 'Cu': 63.546, 'Zn': 65.38, 'Ga': 69.723, 'Ge': 72.630,\n",
    "    'As': 74.922, 'Se': 78.971, 'Br': 79.904, 'Kr': 83.798, 'Rb': 85.468, 'Sr': 87.62, 'Y': 88.906, 'Zr': 91.224,\n",
    "    'Nb': 92.906, 'Mo': 95.95, 'Tc': 98.0, 'Ru': 101.07, 'Rh': 102.91, 'Pd': 106.42, 'Ag': 107.87, 'Cd': 112.41,\n",
    "    'In': 114.82, 'Sn': 118.71, 'Sb': 121.76, 'Te': 127.60, 'I': 126.90, 'Xe': 131.29, 'Cs': 132.91, 'Ba': 137.33,\n",
    "    'La': 138.91, 'Ce': 140.12, 'Pr': 140.91, 'Nd': 144.24, 'Pm': 145.0, 'Sm': 150.36, 'Eu': 151.96, 'Gd': 157.25,\n",
    "    'Tb': 158.93, 'Dy': 162.50, 'Ho': 164.93, 'Er': 167.26, 'Tm': 168.93, 'Yb': 173.05, 'Lu': 174.97, 'Hf': 178.49,\n",
    "    'Ta': 180.95, 'W': 183.84, 'Re': 186.21, 'Os': 190.23, 'Ir': 192.22, 'Pt': 195.08, 'Au': 196.97, 'Hg': 200.59,\n",
    "    'Tl': 204.38, 'Pb': 207.2, 'Bi': 208.98, 'Po': 209.0, 'At': 210.0, 'Rn': 222.0, 'Fr': 223.0, 'Ra': 226.0,\n",
    "    'Ac': 227.0, 'Th': 232.04, 'Pa': 231.04, 'U': 238.03, 'Np': 237.0, 'Pu': 244.0, 'Am': 243.0, 'Cm': 247.0,\n",
    "    'Bk': 247.0, 'Cf': 251.0, 'Es': 252.0, 'Fm': 257.0, 'Md': 258.0, 'No': 259.0, 'Lr': 266.0, 'Rf': 267.0,\n",
    "    'Db': 268.0, 'Sg': 269.0, 'Bh': 270.0, 'Hs': 269.0, 'Mt': 278.0, 'Ds': 281.0, 'Rg': 282.0, 'Cn': 285.0,\n",
    "    'Nh': 286.0, 'Fl': 289.0, 'Mc': 289.0, 'Lv': 293.0, 'Ts': 294.0, 'Og': 294.0\n",
    "}\n",
    "\n",
    "Далее Вам необходимо написать модуль Battery_Cap, который производит расчет теоретической емкости.\n",
    "\n",
    "Далее вы пишите код, который считывает список электодных материалов и в конце выдает текстовый документ, в котором напротив каждого материала \n",
    "будет его теоретическая емкость с размерностью. \n",
    "\n",
    "Для наглядности по получившемуся файлу постройте график, чтобы визуально было видно какой материал обладает наибольшей емкостью\n",
    "\n",
    "Электродные материалы:\n",
    "LiCoO2\n",
    "LiFePO4\n",
    "LiNiO2\n",
    "NaMnO2\n",
    "NaFeO2\n",
    "Na3FePO4CO3\n",
    "KVPO4F\n",
    "KVOPO4\n",
    "KVP2O7\n",
    "\n",
    "Код расчета теоретической емкости пишется в юпитере,\n",
    "дополнительно высылаются 2 файла - модуля в формате .py\n",
    "\"\"\"\n"
   ]
  },
  {
   "cell_type": "code",
   "execution_count": 3,
   "id": "f26fb703-19ec-485d-9a4f-5b25874799f8",
   "metadata": {},
   "outputs": [
    {
     "data": {
      "image/png": "[encoded data removed]",
      "text/plain": [
       "<Figure size 1000x500 with 1 Axes>"
      ]
     },
     "metadata": {},
     "output_type": "display_data"
    }
   ],
   "source": [
    "from Battery_Cap import calculate_cap\n",
    "\n",
    "materials = [\n",
    "    'LiCoO2',\n",
    "    'LiFePO4',\n",
    "    'LiNiO2',\n",
    "    'NaMnO2',\n",
    "    'NaFeO2',\n",
    "    'Na3FePO4CO3',\n",
    "    'KVPO4F',\n",
    "    'KVOPO4',\n",
    "    'KVP2O7'\n",
    "]\n",
    "\n",
    "\n",
    "with open('out.txt', 'w') as f:\n",
    "    for mat in materials:\n",
    "        f.write(f'{mat} {calculate_cap(mat)}\\n')\n",
    "\n",
    "\n",
    "\n",
    "\n",
    "\n",
    "\n",
    "import matplotlib.pyplot as plt\n",
    "\n",
    "values = []\n",
    "with open ('out.txt', 'r') as f:\n",
    "    for line in f.readlines():\n",
    "        a = line.split()\n",
    "        values.append(float(a[1]))\n",
    "\n",
    "plt.figure(figsize=(10, 5))\n",
    "bars = plt.bar(materials, values, color='skyblue', edgecolor='navy')\n",
    "\n",
    "plt.xticks(ha='center')\n",
    "plt.grid(axis='y', alpha=0.3)\n",
    "\n",
    "for bar, q in zip(bars, values):\n",
    "    plt.text(bar.get_x() + bar.get_width()/2, bar.get_height() + 10, \n",
    "             f'{q:.2f}', ha='center', va='bottom', fontsize=9)\n",
    "\n",
    "plt.show()"
   ]
  },
  {
   "cell_type": "code",
   "execution_count": null,
   "id": "c7e33bb1",
   "metadata": {},
   "outputs": [],
   "source": []
  }
 ],
 "metadata": {
  "kernelspec": {
   "display_name": "Python 3",
   "language": "python",
   "name": "python3"
  },
  "language_info": {
   "codemirror_mode": {
    "name": "ipython",
    "version": 3
   },
   "file_extension": ".py",
   "mimetype": "text/x-python",
   "name": "python",
   "nbconvert_exporter": "python",
   "pygments_lexer": "ipython3",
   "version": "3.13.7"
  }
 },
 "nbformat": 4,
 "nbformat_minor": 5
}
