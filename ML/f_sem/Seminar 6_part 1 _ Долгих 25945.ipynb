{
 "cells": [
  {
   "cell_type": "code",
   "execution_count": null,
   "id": "a5671fee-9988-4bd9-a559-964dd46cd334",
   "metadata": {},
   "outputs": [],
   "source": [
    "#Try_Except"
   ]
  },
  {
   "cell_type": "code",
   "execution_count": null,
   "id": "69fffeb5-016f-456a-af2f-4d2afd692460",
   "metadata": {},
   "outputs": [],
   "source": [
    "#1\n",
    "\"\"\"Дан файл data.txt. Требовалось написать программу, которая определяет, сколько строк содержится в данном файле, \n",
    "и вывести полученный результат. Программист торопился и написал программу неправильно.\n",
    "Найдите и исправьте все ошибки, допущенные в этой программе (их ровно 3).\n",
    "Известно, что каждая ошибка затрагивает только одну строку и может быть исправлена без изменения других строк.\"\"\""
   ]
  },
  {
   "cell_type": "code",
   "execution_count": null,
   "id": "c71079f6-da52-4772-8e31-105feb5991f1",
   "metadata": {},
   "outputs": [],
   "source": [
    "# Исправьте код\n",
    "total = 0\n",
    "with open('data.txt', encoding='utf-8') as file:\n",
    "    for _ in file.readlines():\n",
    "        total += 1\n",
    "print(total)"
   ]
  },
  {
   "cell_type": "code",
   "execution_count": null,
   "id": "23a85938-f6fb-4b64-a938-8301761e5a05",
   "metadata": {},
   "outputs": [],
   "source": [
    "#2\n",
    "\"\"\"Требовалось реализовать функцию swapcase_vowels(), которая принимает в качестве аргумента строку,\n",
    "заменяет в ней все гласные латинские буквы на заглавные и возвращает полученную новую строку. \n",
    "Программист торопился и реализовал функцию неправильно.\n",
    "Найдите и исправьте все ошибки, допущенные в реализации этой функции (их ровно 3).\n",
    "Известно, что каждая ошибка затрагивает только одну строку и может быть исправлена без изменения других строк.\n",
    "Запустите функцию для проверки \"\"\""
   ]
  },
  {
   "cell_type": "code",
   "execution_count": null,
   "id": "94016dc8-16b8-4de9-82fa-e1272d0ad89e",
   "metadata": {},
   "outputs": [],
   "source": [
    "# Исправьте код\n",
    "def swapcase_vowels(string):\n",
    "    vowels = 'aeiouy'\n",
    "    swapped_string = ''\n",
    "    for char in string:\n",
    "        if char in vowels:\n",
    "            swapcase_vowels +=  char.upper()\n",
    "            continue\n",
    "        swapped_string += char\n",
    "    return swapped_string"
   ]
  },
  {
   "cell_type": "code",
   "execution_count": null,
   "id": "6ef6f576-3fe6-43be-8b6d-51a5f17369e0",
   "metadata": {},
   "outputs": [],
   "source": [
    "#3\n",
    "\"\"\"Вам доступна программа, которая находит сумму всех значений по ключу Likes из всех словарей списка blog_posts. \n",
    "Если словарь не содержит ключа Likes, его значение считается равным минус единице.\n",
    "Дополните приведенный ниже код конструкцией try-except, чтобы он выполнился без ошибок.\"\"\""
   ]
  },
  {
   "cell_type": "code",
   "execution_count": 1,
   "id": "8d8b27d9-fe56-45d9-bd9e-b56ab23be4ff",
   "metadata": {},
   "outputs": [
    {
     "name": "stdout",
     "output_type": "stream",
     "text": [
      "86\n"
     ]
    }
   ],
   "source": [
    "# Дополните код\n",
    "blog_posts = [{'Photos': 3, 'Likes': 21, 'Comments': 2}, \n",
    "              {'Likes': 13, 'Comments': 2, 'Shares': 1}, \n",
    "              {'Photos': 5, 'Likes': 33, 'Comments': 8, 'Shares': 3}, \n",
    "              {'Comments': 4, 'Shares': 2}, \n",
    "              {'Photos': 8, 'Comments': 1, 'Shares': 1}, \n",
    "              {'Photos': 3, 'Likes': 19, 'Comments': 3}]\n",
    "total_likes = 0\n",
    "for post in blog_posts:\n",
    "    try:\n",
    "        total_likes += post['Likes']\n",
    "    except: pass\n",
    "print(total_likes)"
   ]
  },
  {
   "cell_type": "code",
   "execution_count": null,
   "id": "2544f74c-46ef-47e7-b374-87f3f9a0999a",
   "metadata": {},
   "outputs": [],
   "source": [
    "#4\n",
    "\"\"\"Вам доступна программа, которая добавляет в список fifth пятую букву каждого слова из списка food. \n",
    "Если слово не имеет пятой буквы, этой буквой считается символ _. \n",
    "Дополните приведенный ниже код конструкцией try-except, чтобы он выполнился без ошибок.\"\"\""
   ]
  },
  {
   "cell_type": "code",
   "execution_count": 2,
   "id": "e7b77452-ff74-41aa-88a2-4bdae0f2e585",
   "metadata": {},
   "outputs": [
    {
     "name": "stdout",
     "output_type": "stream",
     "text": [
      "['o', 'k', '_', 'w', '_', 't', '_', '_', 'n']\n"
     ]
    }
   ],
   "source": [
    "# Дополните код\n",
    "food = ['chocolate', 'chicken', 'corn', 'sandwich', 'soup', 'potatoes', 'beef', 'lox', 'lemonade']\n",
    "fifth = []\n",
    "for x in food:\n",
    "    try:\n",
    "        fifth.append(x[4])\n",
    "    except: fifth.append('_')\n",
    "print(fifth)"
   ]
  },
  {
   "cell_type": "code",
   "execution_count": null,
   "id": "bdf58d6f-a3ae-4879-94a4-a5a29074e2a9",
   "metadata": {},
   "outputs": [],
   "source": [
    "#5\n",
    "\"\"\"Напишите программу с использованием конструкции try-except, которая выводит название месяца, \n",
    "соответствующее введенному целому числу (от 1 до 12 включительно), причем если введенное число не принадлежит отрезку \n",
    "[1;12], программа должна вывести текст:\n",
    "-Введено число из недопустимого диапазона              \n",
    "если введенное значение не является целым числом, программа должна вывести текст:\n",
    "-Введено некорректное значение\n",
    "\n",
    "На вход программе подается единственная строка с произвольным значением.\n",
    "Программа должна вывести полное название месяца на английском, соответствующее введенному числу (от 1 до 12 включительно)\n",
    "или текст с соответствующей ошибкой, если введенное значение некорректно.\n",
    "Для получения списка с названиями месяцев можно воспользоваться атрибутом month_name из модуля calendar.\n",
    "\n",
    "Input 1:\n",
    "1\n",
    "Output 1:\n",
    "January\n",
    "\n",
    "Input 2:\n",
    "четыре\n",
    "Output 2:\n",
    "Введено некорректное значение\n",
    "\n",
    "Input 3:\n",
    "13\n",
    "Output 3:\n",
    "Введено число из недопустимого диапазона          \"\"\""
   ]
  },
  {
   "cell_type": "code",
   "execution_count": null,
   "id": "58099d1d-734b-4383-9180-916f711b55df",
   "metadata": {},
   "outputs": [],
   "source": [
    "# Напишите Ваш код здесь\n"
   ]
  },
  {
   "cell_type": "code",
   "execution_count": null,
   "id": "338a18c2-deef-48ad-b96e-ef5cb17ae06a",
   "metadata": {},
   "outputs": [],
   "source": [
    "#6\n",
    "\"\"\"Реализуйте функцию add_to_list_in_dict() с использованием конструкции try-except, которая принимает три аргумента в следующем порядке:\n",
    "    data — словарь списков, то есть словарь, значениями в котором являются списки\n",
    "    key — хешируемый объект\n",
    "    element — произвольный объект\n",
    "Функция должна добавлять объект element в список по ключу key в словаре data. \n",
    "Если ключа key в словаре data нет, функция должна добавить его в словарь, присвоить ему в качестве значения пустой список и добавить\n",
    "в этот список объект element.\n",
    "\n",
    "Input 1:\n",
    "data = {'a': [1, 2, 3], 'b': [4, 5, 6]}\n",
    "add_to_list_in_dict(data, 'b', 7)\n",
    "print(data)\n",
    "Output 1:\n",
    "{'a': [1, 2, 3], 'b': [4, 5, 6, 7]}\n",
    "\n",
    "Input 2:\n",
    "data = {'a': [1, 2, 3], 'b': [4, 5, 6]}\n",
    "add_to_list_in_dict(data, 'c', 7)\n",
    "print(data)\n",
    "Output 2:\n",
    "{'a': [1, 2, 3], 'b': [4, 5, 6], 'c': [7]}"
   ]
  },
  {
   "cell_type": "code",
   "execution_count": null,
   "id": "ac35020b-3b4d-467a-92e2-53d50cf9ea77",
   "metadata": {},
   "outputs": [],
   "source": [
    "# Напишите Ваш код здесь\n"
   ]
  },
  {
   "cell_type": "code",
   "execution_count": null,
   "id": "95e92934-d416-41ae-934d-54c2c42d748a",
   "metadata": {},
   "outputs": [],
   "source": [
    "#7\n",
    "\"\"\"Реализуйте функцию get_weekday(), которая принимает один аргумент:\n",
    "number — целое число (от 1 до 7 включительно)\n",
    "Функция должна возвращать полное название дня недели на русском, который соответствует числу number, при этом:\n",
    "если number не является целым числом, функция должна возбуждать исключение: \n",
    "-TypeError('Аргумент не является целым числом')             \n",
    "если number является целым числом, но не принадлежит отрезку [1;7], функция должна возбуждать исключение: \n",
    "-ValueError('Аргумент не принадлежит требуемому диапазону')\n",
    "\n",
    "Input 1:\n",
    "print(get_weekday(1))\n",
    "Output 1:\n",
    "Понедельник\n",
    "\n",
    "Input 2:\n",
    "try:\n",
    "    print(get_weekday('hello'))\n",
    "except Exception as err:\n",
    "    print(err)\n",
    "    print(type(err))\n",
    "Output 2:\n",
    "Аргумент не является целым числом\n",
    "<class 'TypeError'>\n",
    "\n",
    "Input 3:\n",
    "try:\n",
    "    print(get_weekday(8))\n",
    "except ValueError as err:\n",
    "    print(err)\n",
    "    print(type(err))\n",
    "Output 3:\n",
    "Аргумент не принадлежит требуемому диапазону\n",
    "<class 'ValueError'>                           \"\"\"\n"
   ]
  },
  {
   "cell_type": "code",
   "execution_count": null,
   "id": "700bd88d-97da-4a4c-a68d-8cf815804b9f",
   "metadata": {},
   "outputs": [],
   "source": [
    "# Напишите Ваш код здесь\n"
   ]
  },
  {
   "cell_type": "code",
   "execution_count": null,
   "id": "b267eea0-3bfc-405c-9b62-d99d40890fec",
   "metadata": {},
   "outputs": [],
   "source": [
    "#8\n",
    "\"\"\"Назовем пароль хорошим, если:\n",
    "    его длина равна 9 или более символам\n",
    "    в нем присутствуют большие и маленькие буквы любого алфавита\n",
    "    в нем имеется хотя бы одна цифра\n",
    "Реализуйте функцию is_good_password() в стиле LBYL, которая принимает один аргумент:\n",
    "    string — произвольная строка\n",
    "Функция должна возвращать True, если строка string представляет собой хороший пароль, или False в противном случае.\n",
    "\n",
    "Input 1:\n",
    "print(is_good_password('41157082'))\n",
    "Output 1:\n",
    "False\n",
    "\n",
    "Input 2:\n",
    "print(is_good_password('мойпарольсамыйлучший'))\n",
    "Output 2:\n",
    "False\n",
    "\n",
    "Input 3:\n",
    "print(is_good_password('МойПарольСамыйЛучший111'))\n",
    "Output 3:\n",
    "True            \"\"\""
   ]
  },
  {
   "cell_type": "code",
   "execution_count": null,
   "id": "1dc5f754-10c7-4e4c-a3fe-b962d2c9f20b",
   "metadata": {},
   "outputs": [],
   "source": [
    "# Напишите Ваш код здесь\n"
   ]
  },
  {
   "cell_type": "code",
   "execution_count": null,
   "id": "e9efd3a6-fab4-4cce-8599-47e779fcbd30",
   "metadata": {},
   "outputs": [],
   "source": [
    "#9\n",
    "\"\"\"Назовем пароль хорошим, если\n",
    "    его длина равна 9 или более символам\n",
    "    в нем присутствуют большие и маленькие буквы любого алфавита\n",
    "    в нем имеется хотя бы одна цифра\n",
    "Реализуйте функцию is_good_password() в стиле EAFP, которая принимает один аргумент:\n",
    "    string — произвольная строка\n",
    "Функция должна возвращать True, если строка string представляет собой хороший пароль, или возбуждать исключение:\n",
    "    LengthError, если его длина меньше 9 символов\n",
    "    LetterError, если в нем отсутствуют буквы или все буквы имеют одинаковый регистр\n",
    "    DigitError, если в нем нет ни одной цифры\n",
    "Исключения LengthError, LetterError и DigitError уже определены и доступны.\n",
    "Приоритет возбуждения исключений в случае невыполнения нескольких условий: LengthError, затем LetterError, а уже после DigitError."
   ]
  },
  {
   "cell_type": "code",
   "execution_count": null,
   "id": "ae3326ca-ca5a-4ce8-a85c-bcbe30a9b5c5",
   "metadata": {},
   "outputs": [],
   "source": [
    "class PasswordError(Exception):\n",
    "    pass\n",
    "class LengthError(PasswordError):\n",
    "    pass\n",
    "class LetterError(PasswordError):\n",
    "    pass\n",
    "class DigitError(PasswordError):\n",
    "    pass\n",
    "# Напишите Ваш код здесь\n"
   ]
  }
 ],
 "metadata": {
  "kernelspec": {
   "display_name": "Python 3",
   "language": "python",
   "name": "python3"
  },
  "language_info": {
   "codemirror_mode": {
    "name": "ipython",
    "version": 3
   },
   "file_extension": ".py",
   "mimetype": "text/x-python",
   "name": "python",
   "nbconvert_exporter": "python",
   "pygments_lexer": "ipython3",
   "version": "3.13.7"
  }
 },
 "nbformat": 4,
 "nbformat_minor": 5
}
