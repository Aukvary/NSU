{
 "cells": [
  {
   "cell_type": "code",
   "execution_count": null,
   "id": "bfece8a1-0586-4b0e-b226-abaafe503834",
   "metadata": {},
   "outputs": [],
   "source": [
    "# 1\n",
    "\"\"\"Напишите программу, которая считывает список чисел lst из первой строки и число x из второй строки, которая выводит все позиции, \n",
    "на которых встречается число x в переданном списке lst.\n",
    "Позиции нумеруются с нуля, если число x не встречается в списке, вывести строку \"Отсутствует\" (без кавычек, с большой буквы).\n",
    "Позиции должны быть выведены в одну строку, по возрастанию абсолютного значения.\n",
    "\n",
    "Пример: \n",
    "input \n",
    "5 8 2 7 8 8 2 4\n",
    "8\n",
    "\n",
    "output\n",
    "1 4 5\n",
    "\"\"\""
   ]
  },
  {
   "cell_type": "code",
   "execution_count": null,
   "id": "7fe36e51-729b-4416-a5ef-2e65d8ae8085",
   "metadata": {},
   "outputs": [],
   "source": [
    "lst = input().split()\n",
    "n = input()\n",
    "\n",
    "finded = False\n",
    "\n",
    "for i in range(len(lst)):\n",
    "    if lst[i] == n:\n",
    "        finded = True\n",
    "        print(i, end=' ')"
   ]
  },
  {
   "cell_type": "code",
   "execution_count": null,
   "id": "240a6c9d-2bd8-499d-b204-39084dcb551b",
   "metadata": {},
   "outputs": [],
   "source": [
    "# 2\n",
    "\"\"\"Дано натуральное число n. Напишите программу, которая печатает численный треугольник в соответствии с примером:\n",
    "Пример для числа 5:\n",
    "1\n",
    "22\n",
    "333\n",
    "4444\n",
    "55555\n",
    "...         \"\"\""
   ]
  },
  {
   "cell_type": "code",
   "execution_count": 1,
   "id": "ac406976-9a47-449e-bf7e-438ec9912fb6",
   "metadata": {},
   "outputs": [
    {
     "name": "stdout",
     "output_type": "stream",
     "text": [
      "1\n",
      "22\n",
      "333\n",
      "4444\n",
      "55555\n"
     ]
    }
   ],
   "source": [
    "n = int(input())\n",
    "\n",
    "for i in range(1, n + 1):\n",
    "    print(str(i) * i)"
   ]
  },
  {
   "cell_type": "code",
   "execution_count": null,
   "id": "1837f11c-ea8f-4e70-a1a0-14587bdf7506",
   "metadata": {},
   "outputs": [],
   "source": [
    "# 3\n",
    "\"\"\"Дополните приведённый ниже код, чтобы он:\n",
    "Вывел длину списка;\n",
    "Вывел последний элемент списка;\n",
    "Вывел список в обратном порядке (вспоминаем срезы);\n",
    "Вывел «YES» (без кавычек), если список содержит числа 5 и 17, или «NO» (без кавычек) в противном случае;\n",
    "Вывел список с удалёнными первым и последним элементами.\n",
    "Каждый вывод необходимо осуществлять на новой строке. \"\"\""
   ]
  },
  {
   "cell_type": "code",
   "execution_count": 2,
   "id": "0037f220-b123-4c26-a3ba-99239370695b",
   "metadata": {},
   "outputs": [
    {
     "name": "stdout",
     "output_type": "stream",
     "text": [
      "6\n",
      "6\n",
      "[6, 5, 4, 3, 2, 1]\n",
      "NO\n",
      "[2, 3, 4, 5]\n"
     ]
    }
   ],
   "source": [
    "lst = [int(n) for n in input().split()]\n",
    "print(len(lst))\n",
    "print(lst[-1])\n",
    "print(lst[::-1])\n",
    "print(\"YES\" if 5 in lst and 17 in lst else \"NO\")\n",
    "print(lst[1:-1])"
   ]
  },
  {
   "cell_type": "code",
   "execution_count": null,
   "id": "0d48a737-0f71-4072-b080-41b5e5187ed7",
   "metadata": {},
   "outputs": [],
   "source": [
    "# 4\n",
    "\"\"\"На вход программе подаются натуральное число n и n строк, а затем число k. Напишите программу, которая выводит k-ую букву из введённых строк \n",
    "на одной строке без пробелов.\n",
    "На вход программе подаются натуральное число n, далее n строк, каждая на отдельной строке. В конце вводится натуральное число k – номер буквы \n",
    "(нумерация начинается с единицы).\n",
    "Программа должна вывести текст в соответствии с условием задачи.\n",
    "Если некоторые строки слишком короткие и в них нет символа с заданным номером, то такие строки при выводе нужно игнорировать.\n",
    "Input 1:\n",
    "5\n",
    "abcdef\n",
    "bcdefg\n",
    "cdefgh\n",
    "defghi\n",
    "efghij\n",
    "2\n",
    "Output 1:\n",
    "bcdef\n",
    "\n",
    "Input 2:\n",
    "5\n",
    "aaaaa\n",
    "bbbb\n",
    "ccc\n",
    "dd\n",
    "e\n",
    "3\n",
    "Output 2:\n",
    "abc            \"\"\""
   ]
  },
  {
   "cell_type": "code",
   "execution_count": 6,
   "id": "2c39c3ab-928b-4515-a4fb-cf5ef986b61c",
   "metadata": {},
   "outputs": [
    {
     "name": "stdout",
     "output_type": "stream",
     "text": [
      "bcdef"
     ]
    }
   ],
   "source": [
    "lsts = [input() for _ in range(int(input()))]\n",
    "n = int(input())\n",
    "\n",
    "for lst in lsts:\n",
    "    if len(lst) >= n:\n",
    "        print(lst[n - 1], end='')"
   ]
  },
  {
   "cell_type": "code",
   "execution_count": null,
   "id": "410cf548-9c61-421f-8137-8e425e0506cd",
   "metadata": {},
   "outputs": [],
   "source": [
    "# 5\n",
    "\"\"\"На вход программе подаются натуральное число n, затем n строк, затем ещё одна строка – поисковый запрос.\n",
    "Напишите программу, которая выводит все введённые строки, в которых встречается поисковый запрос.\n",
    "На вход программе подаются натуральное число n – количество строк, затем сами строки в указанном количестве, затем один поисковый запрос.\n",
    "Программа должна вывести все введённые строки, в которых встречается поисковый запрос.\n",
    "Поиск не должен быть чувствителен к регистру символов.\n",
    "Input:\n",
    "5\n",
    "Язык Python прекрасен\n",
    "C# - отличный язык программирования\n",
    "Stepik - отличная платформа\n",
    "BEEGEEK FOREVER!\n",
    "язык Python появился 20 февраля 1991\n",
    "язык\n",
    "Output:\n",
    "Язык Python прекрасен\n",
    "C# - отличный язык программирования\n",
    "язык Python появился 20 февраля 1991   \"\"\""
   ]
  },
  {
   "cell_type": "code",
   "execution_count": null,
   "id": "458d768b-3c45-4d27-8356-1d2f76493e36",
   "metadata": {},
   "outputs": [],
   "source": [
    "n = int(input())\n",
    "strs = [input() for _ in range(n)]\n",
    "\n",
    "k = int(input())\n",
    "requests = [input() for _ in range(k)]\n",
    "\n",
    "for s in strs:\n",
    "    if all(r.lower() in s.lower() for r in requests):\n",
    "        print(s)"
   ]
  },
  {
   "cell_type": "code",
   "execution_count": null,
   "id": "67bda356-f917-44bc-8449-5bc2d3a1afc3",
   "metadata": {},
   "outputs": [],
   "source": [
    "# 6\n",
    "\"\"\"Следом квадратной матрицы называется сумма элементов главной диагонали. Напишите программу, которая выводит след заданной квадратной матрицы.\n",
    "\n",
    "На вход программе подается натуральное число n – количество строк и столбцов в матрице, затем элементы матрицы (целые числа) построчно через пробел.\n",
    "\n",
    "Программа должна вывести одно число – след заданной матрицы.\"\"\"\n",
    "\"\"\"\n",
    "Input 1:\n",
    "3\n",
    "1 2 3\n",
    "4 5 6\n",
    "7 8 9\n",
    "Output 1:\n",
    "15\n",
    "\n",
    "Input 2:\n",
    "4\n",
    "1 0 0 0\n",
    "0 1 0 0\n",
    "0 0 1 0\n",
    "0 0 0 1\n",
    "Output 2:\n",
    "4\n",
    "\n",
    "Input 3:\n",
    "2\n",
    "0 99\n",
    "99 0\n",
    "Output 3:\n",
    "0                    \"\"\""
   ]
  },
  {
   "cell_type": "code",
   "execution_count": 7,
   "id": "c43df9c9-f9f9-4414-80ef-c6e284234e06",
   "metadata": {},
   "outputs": [
    {
     "name": "stdout",
     "output_type": "stream",
     "text": [
      "15\n"
     ]
    }
   ],
   "source": [
    "n = int(input())\n",
    "\n",
    "matrix = [input().split() for _ in range(n)]\n",
    "\n",
    "print(sum(int(matrix[i][i]) for i in range(n)))"
   ]
  },
  {
   "cell_type": "code",
   "execution_count": null,
   "id": "4f22d2a4-372b-47cb-8cbc-06e1360fd0b8",
   "metadata": {},
   "outputs": [],
   "source": [
    "# 7\n",
    "\"\"\"Напишите программу, которая выводит количество элементов квадратной матрицы в каждой строке, \n",
    "больших среднего арифметического элементов данной строки.\n",
    "\n",
    "На вход программе подается натуральное число n – количество строк и столбцов в матрице, затем элементы матрицы (целые числа) построчно через пробел.\n",
    "\n",
    "Программа должна вывести n чисел – для каждой строки количество элементов матрицы, больших среднего арифметического элементов данной строки.\"\"\"\n",
    "\"\"\"\n",
    "Input 1:\n",
    "4\n",
    "1 2 3 4\n",
    "5 6 3 15\n",
    "0 2 3 1\n",
    "5 2 8 5\n",
    "Output 1:\n",
    "2\n",
    "1\n",
    "2\n",
    "1\n",
    "\n",
    "Input 2:\n",
    "2\n",
    "5 6\n",
    "99 5\n",
    "Output 2:\n",
    "1\n",
    "1\n",
    "\n",
    "Input 3:\n",
    "3\n",
    "666 666 666\n",
    "777 777 777\n",
    "100 100 100\n",
    "Output 3:\n",
    "0\n",
    "0\n",
    "0                 \"\"\""
   ]
  },
  {
   "cell_type": "code",
   "execution_count": 8,
   "id": "0b1bce74-3083-4883-a87c-55e7e4e23f51",
   "metadata": {},
   "outputs": [
    {
     "name": "stdout",
     "output_type": "stream",
     "text": [
      "2\n",
      "1\n",
      "2\n",
      "1\n"
     ]
    }
   ],
   "source": [
    "n = int(input())\n",
    "matrix = [[int(n) for n in input().split()] for _ in range(n)]\n",
    "for lst in matrix:\n",
    "    a = sum(lst) / n;\n",
    "    print(len([x for x in lst if x > a]))"
   ]
  },
  {
   "cell_type": "code",
   "execution_count": null,
   "id": "5e69e4d9-fce3-412b-882b-7345df0e7b10",
   "metadata": {},
   "outputs": [],
   "source": [
    "# 8\n",
    "\"\"\"Напишите программу, которая проверяет симметричность квадратной матрицы относительно главной диагонали.\n",
    "\n",
    "На вход программе подается натуральное число n – количество строк и столбцов в матрице, затем элементы матрицы построчно через пробел.\n",
    "\n",
    "Программа должна вывести YES, если матрица симметрична относительно главной диагонали, или NO в противном случае.\"\"\"\n",
    "\"\"\"\n",
    "Input 1:\n",
    "3\n",
    "0 1 2\n",
    "1 2 3\n",
    "2 3 4\n",
    "Output 1:\n",
    "YES\n",
    "\n",
    "Input 2:\n",
    "3\n",
    "0 1 2\n",
    "1 2 7\n",
    "2 3 4\n",
    "Output 2:\n",
    "NO\n",
    "\n",
    "Input 3:\n",
    "2\n",
    "1 2\n",
    "3 4\n",
    "Output 3:\n",
    "NO                \"\"\""
   ]
  },
  {
   "cell_type": "code",
   "execution_count": 12,
   "id": "469fee00-6bad-498d-b2af-575de1b9a50c",
   "metadata": {},
   "outputs": [
    {
     "name": "stdout",
     "output_type": "stream",
     "text": [
      "NO\n"
     ]
    }
   ],
   "source": [
    "n = int(input())\n",
    "matrix = [input().split() for _ in range(n)]\n",
    "\n",
    "def func():\n",
    "    for i in range(n):\n",
    "        for j in range(n):\n",
    "            if matrix[i][j] != matrix[j][i]:\n",
    "                print(\"NO\")\n",
    "                return\n",
    "    print(\"YES\")\n",
    "    \n",
    "func()"
   ]
  }
 ],
 "metadata": {
  "kernelspec": {
   "display_name": "Python 3",
   "language": "python",
   "name": "python3"
  },
  "language_info": {
   "codemirror_mode": {
    "name": "ipython",
    "version": 3
   },
   "file_extension": ".py",
   "mimetype": "text/x-python",
   "name": "python",
   "nbconvert_exporter": "python",
   "pygments_lexer": "ipython3",
   "version": "3.13.7"
  }
 },
 "nbformat": 4,
 "nbformat_minor": 5
}
