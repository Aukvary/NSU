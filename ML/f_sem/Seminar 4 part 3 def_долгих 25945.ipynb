{
 "cells": [
  {
   "cell_type": "code",
   "execution_count": null,
   "id": "674058cb-3e72-408f-8ca6-61df36904a86",
   "metadata": {},
   "outputs": [],
   "source": [
    "# def"
   ]
  },
  {
   "cell_type": "code",
   "execution_count": null,
   "id": "581f24e1-0a2a-4d4a-b22d-b44130759f58",
   "metadata": {},
   "outputs": [],
   "source": [
    "#35\n",
    "\"\"\"Напишите функцию draw_triangle(), которая выводит звёздный прямоугольный треугольник с катетами, равными \n",
    "10, в соответствии с образцом:\n",
    "*\n",
    "**\n",
    "***\n",
    "****\n",
    "*****\n",
    "******\n",
    "*******\n",
    "********\n",
    "*********\n",
    "**********   \"\"\""
   ]
  },
  {
   "cell_type": "code",
   "execution_count": 1,
   "id": "1d8b49d7-1a77-4866-8147-8347f279dafb",
   "metadata": {},
   "outputs": [
    {
     "name": "stdout",
     "output_type": "stream",
     "text": [
      "*\n",
      "**\n",
      "***\n",
      "****\n",
      "*****\n",
      "******\n",
      "*******\n",
      "********\n",
      "*********\n",
      "**********\n"
     ]
    }
   ],
   "source": [
    "def draw_triangle():\n",
    "    for i in range(1, 11):\n",
    "        print('*' * i)\n",
    "\n",
    "draw_triangle()"
   ]
  },
  {
   "cell_type": "code",
   "execution_count": null,
   "id": "f43ea5b5-0cac-4301-978d-cec549f2ed43",
   "metadata": {},
   "outputs": [],
   "source": [
    "#36\n",
    "\"\"\"Юный инженер! Твой робот-исследователь только что вернулся из миссии по неизведанной территории. \n",
    "Он записал координаты всех точек своего маршрута. Тебе нужно рассчитать общее расстояние, которое преодолел робот!\n",
    "На вход программе подается кортеж координат (x, y) точек маршрута - trajectory = ((0, 0), (3, 0), (3, 4), (0, 0))\n",
    "Вычислить суммарную длину пути между всеми точками.\n",
    "Ожидаемый результат: 12.0 \"\"\""
   ]
  },
  {
   "cell_type": "code",
   "execution_count": 6,
   "id": "642a6bc5-02e6-4a69-9a44-4c09b8695589",
   "metadata": {},
   "outputs": [
    {
     "name": "stdout",
     "output_type": "stream",
     "text": [
      "12.0\n"
     ]
    }
   ],
   "source": [
    "def calculate_total_distance(points):\n",
    "    x, y = points[0][0], points[0][1]\n",
    "    res = 0\n",
    "\n",
    "    for p in points:\n",
    "        res += ((x - p[0])**2 + (y - p[1])**2)**0.5\n",
    "        x, y = p[0], p[1]\n",
    "\n",
    "    return res\n",
    "\n",
    "\n",
    "# Тест\n",
    "trajectory = ((0, 0), (3, 0), (3, 4), (0, 0))\n",
    "print(calculate_total_distance(trajectory))"
   ]
  },
  {
   "cell_type": "code",
   "execution_count": null,
   "id": "6b954ec1-58e4-4ec0-b87c-c4a505725c9f",
   "metadata": {},
   "outputs": [],
   "source": [
    "#37\n",
    "\"\"\"Напишите функцию draw_triangle(fill, base), которая принимает два параметра:\n",
    "fill – символ заполнитель;\n",
    "base – величина основания равнобедренного треугольника;\n",
    "а затем выводит его.\n",
    "Гарантируется, что основание треугольника – нечётное число.\n",
    "Input 1:\n",
    "?\n",
    "7\n",
    "Output 1:\n",
    "?\n",
    "??\n",
    "???\n",
    "????\n",
    "???\n",
    "??\n",
    "?                            \"\"\""
   ]
  },
  {
   "cell_type": "code",
   "execution_count": 10,
   "id": "bf73a2cd-90fe-4fe6-a8d2-e20374928b5b",
   "metadata": {},
   "outputs": [
    {
     "name": "stdout",
     "output_type": "stream",
     "text": [
      "?\n",
      "??\n",
      "???\n",
      "????\n",
      "???\n",
      "??\n",
      "?\n"
     ]
    }
   ],
   "source": [
    "def draw_triangle(fill, base):\n",
    "    for i in range(1, base // 2 + 2):\n",
    "        print(fill * i)\n",
    "    \n",
    "    for i in range(base // 2, 0, -1):\n",
    "        print(fill * i)\n",
    "\n",
    "draw_triangle(input(), int(input()))"
   ]
  },
  {
   "cell_type": "code",
   "execution_count": null,
   "id": "c42b60cb-0433-48b7-8306-3b54224a74d3",
   "metadata": {},
   "outputs": [],
   "source": [
    "#38\n",
    "\"\"\"Напишите функцию get_days(month), которая принимает в качестве аргумента номер месяца и возвращает количество дней в данном месяце.\n",
    "Гарантируется, что передаваемый аргумент находится в диапазоне от 1 до 12 (включительно).\n",
    "Считайте, что год является невисокосным. \"\"\""
   ]
  },
  {
   "cell_type": "code",
   "execution_count": 1,
   "id": "a09c3383-fb2e-4a34-b1e8-dcebbf8c0308",
   "metadata": {},
   "outputs": [
    {
     "name": "stdout",
     "output_type": "stream",
     "text": [
      "31\n",
      "28\n",
      "31\n",
      "30\n",
      "31\n",
      "30\n",
      "31\n",
      "31\n",
      "30\n",
      "31\n",
      "30\n",
      "31\n"
     ]
    }
   ],
   "source": [
    "def get_days(month):\n",
    "    big = [1, 3, 5, 7, 8, 10, 12]\n",
    "    small = [4, 6, 9, 11]\n",
    "    if month in big:\n",
    "        return 31\n",
    "    elif month in small:\n",
    "        return 30\n",
    "    else:\n",
    "        return 28\n",
    "    \n",
    "for i in range(1, 13):\n",
    "    print(get_days(i))"
   ]
  },
  {
   "cell_type": "code",
   "execution_count": null,
   "id": "235e5762-2ad3-4023-88c0-43c945073d42",
   "metadata": {},
   "outputs": [],
   "source": [
    "#39\n",
    "\"\"\"Напишите функцию get_factors(num), принимающую в качестве аргумента натуральное число и возвращающую список всех делителей данного числа.\n",
    "Input 1:\t\n",
    "5\n",
    "Output 1:                 \n",
    "[1, 5]\n",
    "\n",
    "Input 2:                \n",
    "10\n",
    "Output 2:                  \n",
    "[1, 2, 5, 10]\n",
    "\n",
    "Input 3:                 \n",
    "36\n",
    "Output 3:           \n",
    "[1, 2, 3, 4, 6, 9, 12, 18, 36]        \"\"\""
   ]
  },
  {
   "cell_type": "code",
   "execution_count": 5,
   "id": "99347fb7-05fd-4e17-a517-297f8e5019ac",
   "metadata": {},
   "outputs": [
    {
     "name": "stdout",
     "output_type": "stream",
     "text": [
      "[1, 2, 3, 4, 6, 9, 12, 18, 36]\n"
     ]
    }
   ],
   "source": [
    "def get_factors(num):\n",
    "    factors = set()\n",
    "\n",
    "    for i in range(1, int(num**0.5) + 1):\n",
    "        if num % i == 0:\n",
    "            factors.add(i)\n",
    "            factors.add(num // i)\n",
    "\n",
    "    return sorted(list(factors))\n",
    "\n",
    "print(get_factors(int(input())))"
   ]
  },
  {
   "cell_type": "code",
   "execution_count": 7,
   "id": "c6a1f3a7-a5c2-460d-a54c-26a146cd672d",
   "metadata": {},
   "outputs": [
    {
     "data": {
      "text/plain": [
       "\"Напомним, что строковый метод find('a') возвращает местоположение первого вхождения символа a в строке. \\nПроблема заключается в том, что данный метод не находит местоположение всех символов а.\\nНапишите функцию с именем find_all(target, symbol), которая принимает два аргумента: строку target и символ symbol и возвращает список, \\nсодержащий все местоположения этого символа в строке.\\nЕсли указанный символ не встречается в строке, то следует вернуть пустой список.\\nInput 1:\\nabcdabcaaa\\na\\nOutput 1:\\n[0, 4, 7, 8, 9]\\n\\nInput 2:\\nabcadbcaaa\\ne\\nOutput 2:\\n[]           \""
      ]
     },
     "execution_count": 7,
     "metadata": {},
     "output_type": "execute_result"
    }
   ],
   "source": [
    "#40\n",
    "\"\"\"Напомним, что строковый метод find('a') возвращает местоположение первого вхождения символа a в строке. \n",
    "Проблема заключается в том, что данный метод не находит местоположение всех символов а.\n",
    "Напишите функцию с именем find_all(target, symbol), которая принимает два аргумента: строку target и символ symbol и возвращает список, \n",
    "содержащий все местоположения этого символа в строке.\n",
    "Если указанный символ не встречается в строке, то следует вернуть пустой список.\n",
    "Input 1:\n",
    "abcdabcaaa\n",
    "a\n",
    "Output 1:\n",
    "[0, 4, 7, 8, 9]\n",
    "\n",
    "Input 2:\n",
    "abcadbcaaa\n",
    "e\n",
    "Output 2:\n",
    "[]           \"\"\""
   ]
  },
  {
   "cell_type": "code",
   "execution_count": 8,
   "id": "62979584-da08-4633-8333-677a9d6a1978",
   "metadata": {},
   "outputs": [
    {
     "name": "stdout",
     "output_type": "stream",
     "text": [
      "[]\n"
     ]
    }
   ],
   "source": [
    "def find_all(target, symbol):\n",
    "    return [i for i in range(len(target)) if target[i] == symbol]\n",
    "\n",
    "print(find_all(input(), input()))"
   ]
  },
  {
   "cell_type": "code",
   "execution_count": null,
   "id": "c866897c-7afd-492b-be56-4f8841d6412b",
   "metadata": {},
   "outputs": [],
   "source": [
    "#41\n",
    "\"\"\"Напишите функцию merge(list1, list2), которая принимает в качестве аргументов два отсортированных по возрастанию списка, \n",
    "состоящих из целых чисел, и объединяет их в один отсортированный список.\n",
    "Можно использовать списочный метод sort(), а можно обойтись и без него. \n",
    "Input 1:\n",
    "1 2 3\n",
    "5 6 7 8\n",
    "Output 1:\n",
    "[1, 2, 3, 5, 6, 7, 8]\n",
    "\n",
    "Input 2:\n",
    "1 7 10 16\n",
    "5 6 13 20\n",
    "Output 2:\n",
    "[1, 5, 6, 7, 10, 13, 16, 20]\n",
    "\n",
    "Input 3:\n",
    "1\n",
    "2\n",
    "Output 3:\n",
    "[1, 2]     \"\"\""
   ]
  },
  {
   "cell_type": "code",
   "execution_count": 12,
   "id": "33324a35-2d6a-4bd7-802c-c8a9fc830c28",
   "metadata": {},
   "outputs": [
    {
     "name": "stdout",
     "output_type": "stream",
     "text": [
      "[1, 2, 3, 5, 6, 7, 8]\n"
     ]
    }
   ],
   "source": [
    "def merge(list1, list2):\n",
    "    return sorted(list1 + list2)\n",
    "\n",
    "l1 = [int(n) for n in input().split()]\n",
    "l2 = [int(n) for n in input().split()]\n",
    "\n",
    "print(merge(l1, l2))"
   ]
  },
  {
   "cell_type": "code",
   "execution_count": null,
   "id": "066522a8-59ff-4a58-8e36-76b9b2d2bc21",
   "metadata": {},
   "outputs": [],
   "source": [
    "#42\n",
    "\"\"\"Напишите функцию is_prime(num), которая принимает в качестве аргумента натуральное число и возвращает значение True, \n",
    "если число является простым, или False в противном случае.\n",
    "Input 1:\n",
    "1\n",
    "Output 1:\n",
    "False\n",
    "\n",
    "Input 2:\n",
    "10\n",
    "Output 2:\n",
    "False           \"\"\""
   ]
  },
  {
   "cell_type": "code",
   "execution_count": 17,
   "id": "67d519de-b152-402c-b154-7b14786ed87b",
   "metadata": {},
   "outputs": [
    {
     "name": "stdout",
     "output_type": "stream",
     "text": [
      "False\n"
     ]
    }
   ],
   "source": [
    "def is_prime(num):\n",
    "    return num > 1 and all(num % i == 0 for i in range(2, int(num**0.5) + 1))\n",
    "\n",
    "print(is_prime(int(input())))"
   ]
  },
  {
   "cell_type": "code",
   "execution_count": null,
   "id": "67365e98-fdd7-4680-96e9-1f09257b7d94",
   "metadata": {},
   "outputs": [],
   "source": [
    "#43\n",
    "\"\"\"Напишите функцию f(x), которая возвращает значение следующей функции, определённой на всей числовой прямой:\n",
    "Если x ≤ -2: f(x) = 1 - (x + 2)^2\n",
    "Если -2 < x ≤ 2: f(x) = -x/2\n",
    "Если x > 2: f(x) = (x - 2)^2 + 1\n",
    "Input 1:\n",
    "4.5\n",
    "Output 1:\n",
    "7.25\n",
    "\n",
    "Input 2:\n",
    "-4.5\n",
    "Output 2:\n",
    "-5.25\n",
    "Input 3:\n",
    "1\n",
    "Output 3:\n",
    "-0.5       \"\"\""
   ]
  },
  {
   "cell_type": "code",
   "execution_count": 22,
   "id": "2cc45d11-b823-46b1-aa96-aecbd52ff40e",
   "metadata": {},
   "outputs": [
    {
     "name": "stdout",
     "output_type": "stream",
     "text": [
      "-0.5\n"
     ]
    }
   ],
   "source": [
    "def f(x):\n",
    "    if x <= -2:\n",
    "        return 1 - (x + 2)**2\n",
    "    elif -2 < x <= 2:\n",
    "        return -x / 2\n",
    "    else:\n",
    "        return (x - 2)**2 + 1\n",
    "\n",
    "print(f(float(input())))"
   ]
  },
  {
   "cell_type": "code",
   "execution_count": null,
   "id": "3d5f9918-215d-47a7-987c-2da7365c6857",
   "metadata": {},
   "outputs": [],
   "source": [
    "#44\n",
    "\"\"\"Напишите функцию modify_list(l), которая принимает на вход список целых чисел, удаляет из него все нечётные значения, \n",
    "а чётные нацело делит на два\"\"\"\n",
    "\n"
   ]
  },
  {
   "cell_type": "code",
   "execution_count": 23,
   "id": "a8b73226-97da-42cb-8c44-f5d9c03f1467",
   "metadata": {},
   "outputs": [
    {
     "name": "stdout",
     "output_type": "stream",
     "text": [
      "[1, 2, 3]\n"
     ]
    }
   ],
   "source": [
    "def modify_list(l:list):\n",
    "    for i in range(len(l) - 1, -1, -1):\n",
    "        if l[i] % 2 == 0:\n",
    "            l[i] //= 2\n",
    "        else:\n",
    "            l.pop(i)\n",
    "\n",
    "l = [int(n) for n in input().split()]\n",
    "modify_list(l)\n",
    "\n",
    "print(l)"
   ]
  },
  {
   "cell_type": "code",
   "execution_count": null,
   "id": "755f7f58-aa6e-447f-b474-53c35655718e",
   "metadata": {},
   "outputs": [],
   "source": [
    "#45\n",
    "\"\"\"Напишите функцию is_password_good(password), которая принимает в качестве аргумента строковое значение пароля password и возвращает значение\n",
    "True, если пароль является надёжным, или False в противном случае.\n",
    "Пароль является надёжным, если:\n",
    "его длина не менее 8 символов; \n",
    "он содержит как минимум одну заглавную букву (верхний регистр); \n",
    "он содержит как минимум одну строчную букву (нижний регистр);\n",
    "он содержит хотя бы одну цифру. \n",
    "Input 1:\n",
    "aaAA12qqp\n",
    "Output 1:\n",
    "True\n",
    "\n",
    "Input 2:\n",
    "aa13AN\n",
    "Output 2:\n",
    "False        \"\"\""
   ]
  },
  {
   "cell_type": "code",
   "execution_count": null,
   "id": "27bf4a8a-ccb3-481b-ac0c-5581e7f1cd9f",
   "metadata": {},
   "outputs": [
    {
     "name": "stdout",
     "output_type": "stream",
     "text": [
      "False\n"
     ]
    }
   ],
   "source": [
    "nums = '0123456789'\n",
    "\n",
    "def is_password_good(password: str):\n",
    "    if len(password) < 8:\n",
    "        return False\n",
    "    \n",
    "    if all(not c.isupper() for c in password):\n",
    "        return False\n",
    "    \n",
    "    if all(not c.islower() for c in password):\n",
    "        return False\n",
    "    \n",
    "    if all(c not in nums for c in password):\n",
    "        return False\n",
    "    \n",
    "    return True\n",
    "\n",
    "print(is_password_good(input()))"
   ]
  },
  {
   "cell_type": "code",
   "execution_count": null,
   "id": "4f99a2a8-3d09-419f-ad07-0d7fcf02d946",
   "metadata": {},
   "outputs": [],
   "source": [
    "#46\n",
    "\"\"\"Напишите функцию is_palindrome(text), которая принимает в качестве аргумента строку text и возвращает значение True, если указанный текст \n",
    "является палиндромом, или False в противном случае.\n",
    "Палиндром – это строка, которая читается одинаково в обоих направлениях\n",
    "При проверке считайте большие и маленькие буквы одинаковыми, а также игнорируйте пробелы и символы ,.!?-.\n",
    "Input 1:\n",
    "Standart - smallest, sell Amstrad nats.\n",
    "Output 1:\n",
    "True\n",
    "\n",
    "Input 2:\n",
    "sjdflksjflksdjflsdjk sdlfhsdjfE#R#$$#R !!!!! sdjfnsdjkfnsd kjcvadsk\n",
    "Sample Output 2:\n",
    "False                                                                    \"\"\""
   ]
  },
  {
   "cell_type": "code",
   "execution_count": 28,
   "id": "5d97fde1-9473-46e5-abab-4bf408c23ff8",
   "metadata": {},
   "outputs": [
    {
     "name": "stdout",
     "output_type": "stream",
     "text": [
      "False\n"
     ]
    }
   ],
   "source": [
    "def is_palindrome(text: str):\n",
    "    s = text.lower()\n",
    "    for c in ',.!?-. ':\n",
    "        s = s.replace(c, '')\n",
    "\n",
    "    l = 0\n",
    "    r = len(s) - 1\n",
    "    while (l < r):\n",
    "        if s[l] != s[r]:\n",
    "            return False\n",
    "        l += 1\n",
    "        r -= 1\n",
    "\n",
    "    return True\n",
    "\n",
    "print(is_palindrome(input()))"
   ]
  },
  {
   "cell_type": "code",
   "execution_count": null,
   "id": "385fb190-4658-4a5c-ad0f-e035946926e9",
   "metadata": {},
   "outputs": [],
   "source": [
    "#47\n",
    "\"\"\"Напишите функцию is_correct_bracket(text), которая принимает в качестве аргумента непустую строку text, состоящую из символов ( и ) и \n",
    "возвращает значение True, если поступившая на вход строка является правильной скобочной последовательностью, или False в противном случае.\n",
    "Правильной скобочной последовательностью называется строка, состоящая только из символов ( и ), где каждой открывающей скобке найдётся \n",
    "парная закрывающая скобка (при этом каждая открывающая скобка должна быть левее соответствующей ей закрывающей скобки).\n",
    "Input 1:\n",
    "())((((())))\n",
    "Sample Output 1:\n",
    "False\n",
    "\n",
    "Input 2:\n",
    "(()())\n",
    "Output 2:\n",
    "True             \"\"\""
   ]
  },
  {
   "cell_type": "code",
   "execution_count": 30,
   "id": "9f3bfbcf-b04b-4d96-b640-3d1cc8262d65",
   "metadata": {},
   "outputs": [
    {
     "name": "stdout",
     "output_type": "stream",
     "text": [
      "True\n"
     ]
    }
   ],
   "source": [
    "def is_correct_bracket(text):\n",
    "    count_open = 0\n",
    "\n",
    "    for c in text:\n",
    "        if c == '(': \n",
    "            count_open += 1\n",
    "        elif c == ')':\n",
    "            count_open -= 1\n",
    "\n",
    "        if count_open < 0: \n",
    "            return False\n",
    "        \n",
    "    return count_open == 0\n",
    "\n",
    "print(is_correct_bracket(input()))"
   ]
  },
  {
   "cell_type": "code",
   "execution_count": null,
   "id": "2e8ab150-d69f-4655-b0f8-76e24f37abf0",
   "metadata": {},
   "outputs": [],
   "source": [
    "#48\n",
    "\"\"\"Напишите функцию convert_to_python_case(text), которая принимает в качестве аргумента строку в «верблюжьем регистре»\n",
    "и преобразует его в «змеиный регистр».\n",
    "Input 1:\n",
    "ThisIsCamelCased\n",
    "Output 1:\n",
    "this_is_camel_cased\n",
    "\n",
    "Input 2:\n",
    "IsPrimeNumber\n",
    "Output 2:\n",
    "is_prime_number           \"\"\""
   ]
  },
  {
   "cell_type": "code",
   "execution_count": 40,
   "id": "70707fd7-88fa-4134-8f74-ce90e57ba888",
   "metadata": {},
   "outputs": [
    {
     "name": "stdout",
     "output_type": "stream",
     "text": [
      "is_prime_number\n"
     ]
    }
   ],
   "source": [
    "def convert_to_python_case(text: str):\n",
    "    words = []\n",
    "    l = 0\n",
    "    r = 1\n",
    "    while r < len(text):\n",
    "        if text[r].isupper() and text[r - 1].islower():\n",
    "            words.append(text[l:r]) \n",
    "            l = r\n",
    "        r += 1\n",
    "\n",
    "    words.append(text[l:r])\n",
    "\n",
    "    return '_'.join(words).lower()\n",
    "\n",
    "print(convert_to_python_case(input()))"
   ]
  },
  {
   "cell_type": "code",
   "execution_count": null,
   "id": "ced84d22-ec85-4e61-b308-efe88127aa5c",
   "metadata": {},
   "outputs": [],
   "source": [
    "#49\n",
    "\"\"\"Напишите функцию solve(a, b, c), которая принимает в качестве аргументов три целых числа a, b, c – коэффициенты квадратного уравнения \n",
    "ax^2 + bx + c = 0 и возвращает его корни в порядке возрастания.\n",
    "Гарантируется, что квадратное уравнение имеет хотя бы один корень.\n",
    "Input 1:\n",
    "1\n",
    "-4\n",
    "-5\n",
    "Output 1:\n",
    "-1.0 5.0\n",
    "\n",
    "Input 2:\n",
    "-2\n",
    "7\n",
    "-5\n",
    "Output 2:\n",
    "1.0 2.5          \"\"\""
   ]
  },
  {
   "cell_type": "code",
   "execution_count": 44,
   "id": "e3040d7f-9c8a-412c-905f-6473cd009709",
   "metadata": {},
   "outputs": [
    {
     "name": "stdout",
     "output_type": "stream",
     "text": [
      "1.0 2.5\n"
     ]
    }
   ],
   "source": [
    "def solve(a, b, c):\n",
    "    D = (b**2 - 4*a*c)**0.5\n",
    "    res = ({(-b + D) / (a*2), (-b - D) / (a*2)})\n",
    "\n",
    "    return sorted(list(res))\n",
    "\n",
    "print(*solve(*[int(input()) for _ in range(3)]))"
   ]
  },
  {
   "cell_type": "code",
   "execution_count": null,
   "id": "8052f708-6da9-4830-a1d7-1b92a7ddf708",
   "metadata": {},
   "outputs": [],
   "source": [
    "#50\n",
    "\"\"\"Напишите функцию draw_triangle(), которая выводит звёздный равнобедренный треугольник с основанием и высотой, равными \n",
    "15 и 8 соответственно:\n",
    "       *\n",
    "      ***\n",
    "     *****\n",
    "    *******\n",
    "   *********\n",
    "  ***********\n",
    " *************\n",
    "***************                  \n",
    "Для вывода треугольника используйте цикл for.\n",
    "Справа от звёздочек пробелов нет.\"\"\""
   ]
  },
  {
   "cell_type": "code",
   "execution_count": 48,
   "id": "2cc039d5-d891-4b2d-a5c5-c7e5ea1847ba",
   "metadata": {},
   "outputs": [
    {
     "name": "stdout",
     "output_type": "stream",
     "text": [
      "       *\n",
      "      ***\n",
      "     *****\n",
      "    *******\n",
      "   *********\n",
      "  ***********\n",
      " *************\n",
      "***************\n"
     ]
    }
   ],
   "source": [
    "def draw_triangle():\n",
    "    for i in range(8):\n",
    "        print(' ' * (7 - i) + '*' * (2 * i + 1))\n",
    "\n",
    "draw_triangle()"
   ]
  },
  {
   "cell_type": "code",
   "execution_count": null,
   "id": "694cc5b1-259a-4db8-b99f-4718033f65c9",
   "metadata": {},
   "outputs": [],
   "source": [
    "#51\n",
    "\"\"\"Напишите функцию compute_binom(n, k), которая принимает в качестве аргументов два натуральных числа n и k и \n",
    "возвращает значение биномиального коэффициента, который вычисляется по формуле: n!/(k!(n-k)!)\n",
    "Реализуйте вспомогательную функцию factorial(n), вычисляющую факториал числа, или воспользуйтесь уже готовой функцией из модуля math. \n",
    "Обратите внимание, что функция compute_binom(n, k) должна возвращать целое число. \n",
    "Input 1:\n",
    "1\n",
    "1\n",
    "Output 1:\n",
    "1\n",
    "\n",
    "Input 2:\n",
    "2\n",
    "1\n",
    "Output 2:\n",
    "2         \"\"\""
   ]
  },
  {
   "cell_type": "code",
   "execution_count": 51,
   "id": "8b6852df-3a16-438c-85ae-a2b67b1e3bcc",
   "metadata": {},
   "outputs": [
    {
     "name": "stdout",
     "output_type": "stream",
     "text": [
      "2\n"
     ]
    }
   ],
   "source": [
    "from math import factorial\n",
    "\n",
    "def compute_binom(n, k):\n",
    "    return factorial(n) // (factorial(k * factorial(n - k)))\n",
    "\n",
    "print(compute_binom(int(input()), int(input())))"
   ]
  },
  {
   "cell_type": "code",
   "execution_count": null,
   "id": "490775e2-5499-4eac-a091-4b17f8bada65",
   "metadata": {},
   "outputs": [],
   "source": [
    "#52\n",
    "\"\"\"Напишите функцию number_to_words(num), которая принимает в качестве аргумента натуральное число num и возвращает \n",
    "его словесное описание на русском языке. 1 <= num <= 99\n",
    "\"\"\""
   ]
  },
  {
   "cell_type": "code",
   "execution_count": 58,
   "id": "f2082102-b105-4542-9f48-697cfc6d1bae",
   "metadata": {},
   "outputs": [
    {
     "name": "stdout",
     "output_type": "stream",
     "text": [
      "девяносто восемь\n"
     ]
    }
   ],
   "source": [
    "digits = [\n",
    "    'один',\n",
    "    'два',\n",
    "    'три',\n",
    "    'четыре',\n",
    "    'пять',\n",
    "    'шесть',\n",
    "    'семь',\n",
    "    'восемь',\n",
    "    'девять'\n",
    "]\n",
    "\n",
    "teens = [\n",
    "    'десять',\n",
    "    'одиннадцать', \n",
    "    'двенадцать', \n",
    "    'тринадцать', \n",
    "    'четырнадцать', \n",
    "    'пятнадцать', \n",
    "    'шестнадцать', \n",
    "    'семнадцать', \n",
    "    'восемнадцать', \n",
    "    'девятнадцать'\n",
    "]\n",
    "\n",
    "nums = [\n",
    "    'двадцать', \n",
    "    'тридцать', \n",
    "    'сорок', \n",
    "    'пятьдесят', \n",
    "    'шестьдесят', \n",
    "    'семьдесят', \n",
    "    'восемьдесят', \n",
    "    'девяносто'\n",
    "]\n",
    "\n",
    "def number_to_words(num):\n",
    "    if num < 10:\n",
    "        return digits[num - 1]\n",
    "    if 9 < num < 20:\n",
    "        return teens[num - 10]\n",
    "    else:\n",
    "        r0 = num % 10\n",
    "        r1 = num // 10\n",
    "\n",
    "        return nums[r1 - 2] + (' ' + digits[r0 - 1] if r0 > 0 else '')\n",
    "    \n",
    "print(number_to_words(int(input())))    \n"
   ]
  },
  {
   "cell_type": "code",
   "execution_count": null,
   "id": "0d446590-b6ec-4949-a348-20b3bad5da3b",
   "metadata": {},
   "outputs": [],
   "source": [
    "#53\n",
    "\"\"\"Напишите функцию get_month(language, number), которая принимает на вход два аргумента language – язык ru или en и number – номер месяца (от \n",
    "1 до 12 включительно) и возвращает название месяца на русском или английском языке.\n",
    "Input 1:\n",
    "ru\n",
    "1\n",
    "Output 1:\n",
    "январь\n",
    "\n",
    "Input 2:\n",
    "en\n",
    "2\n",
    "Output 2:\n",
    "february            \"\"\""
   ]
  },
  {
   "cell_type": "code",
   "execution_count": 64,
   "id": "c15a01ad-6ca7-4251-a145-a417c3e9f015",
   "metadata": {},
   "outputs": [
    {
     "name": "stdout",
     "output_type": "stream",
     "text": [
      "март\n"
     ]
    }
   ],
   "source": [
    "month = {\n",
    "    'ru': [\n",
    "        'январь', \n",
    "        'февраль', \n",
    "        'март', \n",
    "        'апрель', \n",
    "        'май', \n",
    "        'июнь',\n",
    "        'июль', \n",
    "        'август', \n",
    "        'сентябрь', \n",
    "        'октябрь', \n",
    "        'ноябрь', \n",
    "        'декабрь'\n",
    "    ],\n",
    "\n",
    "    'en': [\n",
    "        'January', \n",
    "        'February', \n",
    "        'March', \n",
    "        'April', \n",
    "        'May', \n",
    "        'June',\n",
    "        'July', \n",
    "        'August', \n",
    "        'September', \n",
    "        'October', \n",
    "        'November', \n",
    "        'December'\n",
    "    ]\n",
    "}\n",
    "\n",
    "def get_month(language, number):\n",
    "    return month[language][number - 1]\n",
    "\n",
    "print(get_month(input(), int(input())))"
   ]
  },
  {
   "cell_type": "code",
   "execution_count": null,
   "id": "88bf966d-1ded-4ae5-8161-4bbcca50e9b3",
   "metadata": {},
   "outputs": [],
   "source": [
    "#54\n",
    "\"\"\"Магическая дата – это дата, когда день, умноженный на месяц, равен числу, образованному последними двумя цифрами года.\n",
    "Напишите функцию is_magic(date), которая принимает в качестве аргумента строковое представление корректной даты и возвращает значение\n",
    "True, если дата является магической, или False в противном случае.\n",
    "Input 1:\n",
    "10.06.1960\n",
    "Output 1:\n",
    "True\n",
    "\n",
    "Input 2:\n",
    "15.03.1945\n",
    "Output 2:\n",
    "True           \"\"\""
   ]
  },
  {
   "cell_type": "code",
   "execution_count": 70,
   "id": "4b676069-a946-4aa8-91ac-5c49924cfe17",
   "metadata": {},
   "outputs": [
    {
     "name": "stdout",
     "output_type": "stream",
     "text": [
      "True\n"
     ]
    }
   ],
   "source": [
    "def is_magic(date: str):\n",
    "    a = [int(n) for n in date.split('.')]\n",
    "    if a[0] * a[1] == a[2] % 100:\n",
    "        return True\n",
    "    \n",
    "    return False\n",
    "\n",
    "print(is_magic(input()))"
   ]
  },
  {
   "cell_type": "code",
   "execution_count": null,
   "id": "4f7e5c02-3658-43f2-9dea-0ac001ff78dc",
   "metadata": {},
   "outputs": [],
   "source": [
    "#55\n",
    "\"\"\"Панграмма – это фраза, содержащая в себе все буквы алфавита. Обычно панграммы используют для презентации шрифтов, чтобы можно было в одной фразе\n",
    "рассмотреть все глифы. Напишите функцию is_pangram(text), которая принимает в качестве аргумента строку текста на английском языке и возвращает \n",
    "значение True, если текст является панграммой, или False в противном случае.\n",
    "Гарантируется, что введённая строка содержит только буквы английского алфавита и пробелы.\n",
    "Input 1:\n",
    "Jackdaws love my big sphinx of quartz\n",
    "Output 1:\n",
    "True\n",
    "\n",
    "Input 2:\n",
    "razy Fredrick bought many very exquisite opal\n",
    "Output 2:\n",
    "False                   \"\"\""
   ]
  },
  {
   "cell_type": "code",
   "execution_count": 72,
   "id": "3d53d3a7-a4da-4d16-8c1f-894d55bf18d0",
   "metadata": {},
   "outputs": [
    {
     "name": "stdout",
     "output_type": "stream",
     "text": [
      "False\n"
     ]
    }
   ],
   "source": [
    "from string import ascii_lowercase\n",
    "\n",
    "def is_pangram(text: str):\n",
    "    s = text.lower()\n",
    "    return all(c in s for c in ascii_lowercase)\n",
    "\n",
    "print(is_pangram(input()))"
   ]
  },
  {
   "cell_type": "code",
   "execution_count": null,
   "id": "92cdf827-2cf2-4b78-9317-bfa1b9606592",
   "metadata": {},
   "outputs": [],
   "source": [
    "#56\n",
    "\"\"\"Напишите программу, которая выводит максимальный элемент в  области квадратной матрицы (область звездочек).\n",
    "*----\n",
    "**---\n",
    "***--\n",
    "****-\n",
    "*****\n",
    "\n",
    "На вход программе подается натуральное число n – количество строк и столбцов в матрице, затем элементы матрицы (целые числа) построчно через пробел.\n",
    "Программа должна вывести одно число – максимальный элемент в заштрихованной области квадратной матрицы.\n",
    "Примечание. Элементы главной диагонали также учитываются\"\"\"\n",
    "\"\"\"\n",
    "Input 1:\n",
    "3\n",
    "1 4 5\n",
    "6 7 8\n",
    "1 1 6\n",
    "Output 1:\n",
    "7\n",
    "\n",
    "Input 2:\n",
    "4\n",
    "0 1 4 6\n",
    "0 0 2 5\n",
    "0 0 0 7\n",
    "0 0 0 0\n",
    "Output 2:\n",
    "0\n",
    "\n",
    "Input 3:\n",
    "2\n",
    "6 0\n",
    "7 9\n",
    "Output 3:\n",
    "9\n",
    "\n",
    "Input 4:\n",
    "3\n",
    "-50 -10 -20\n",
    "-19 -78 -70\n",
    "-11 -12 -19\n",
    "Output 4:\n",
    "-11\n",
    "\"\"\""
   ]
  },
  {
   "cell_type": "code",
   "execution_count": 73,
   "id": "f12f949b-081d-4e0e-9484-b466d06f038e",
   "metadata": {},
   "outputs": [
    {
     "name": "stdout",
     "output_type": "stream",
     "text": [
      "7\n"
     ]
    }
   ],
   "source": [
    "n = int(input())\n",
    "mtrx = [[int(n) for n in input().split()] for _ in range(n)]\n",
    "\n",
    "mx = float('-inf')\n",
    "for i in range(n):\n",
    "    for j in range(0, i + 1):\n",
    "        mx = max(mx, mtrx[i][j])\n",
    "\n",
    "print(mx)"
   ]
  },
  {
   "cell_type": "code",
   "execution_count": null,
   "id": "ea00f444-fd56-4eab-98d1-080e781ed5cd",
   "metadata": {},
   "outputs": [],
   "source": [
    "#57\n",
    "\"\"\"Научный робот провел серию измерений тремя разными датчиками! Вам нужно проанализировать собранные данные и найти для каждого датчика:\n",
    "-Минимальное значение\n",
    "-Максимальное значение\n",
    "-Среднее арифметическое\n",
    "Кортеж с показаниями - ((25, 30, 35), (30, 35, 40), (22, 28, 32), (27, 32, 37))\n",
    "\n",
    "Подсказка: первый датчик - температура, второй - влажность, третий - давление\n",
    "Данные 25, 30, 22, 27 - это данный первого датчика с разных измерений.\n",
    "Ожидаемый результат: ((22, 30, 26.0), (28, 35, 31.2), (32, 40, 36.0))\"\"\""
   ]
  },
  {
   "cell_type": "code",
   "execution_count": 81,
   "id": "751ed76a-ba70-462e-84f4-190e7a8e3674",
   "metadata": {},
   "outputs": [
    {
     "name": "stdout",
     "output_type": "stream",
     "text": [
      "((22, 30, 26.0), (28, 35, 31.25), (32, 40, 36.0))\n"
     ]
    }
   ],
   "source": [
    "data = ((25, 30, 35), (30, 35, 40), (22, 28, 32), (27, 32, 37))\n",
    "\n",
    "data = [[d[i] for d in data] for i in range(3)]\n",
    "\n",
    "res = tuple((min(d), max(d), sum(d) / len(d)) for d in data)\n",
    "\n",
    "print(res)"
   ]
  },
  {
   "cell_type": "code",
   "execution_count": null,
   "id": "58b5336a-1364-440e-a7c7-43c13418c025",
   "metadata": {},
   "outputs": [],
   "source": [
    "#58\n",
    "\"\"\" Квадратная матрица разбивается на четыре четверти, ограниченные главной и побочной диагоналями: верхнюю, нижнюю, левую и правую.\n",
    "*       *\n",
    "  *   *  \n",
    "    *    \n",
    "  *   *  \n",
    "*       *\n",
    "Напишите программу, которая вычисляет сумму элементов: верхней четверти; правой четверти; нижней четверти; левой четверти.\n",
    "\n",
    "На вход программе подается натуральное число n – количество строк и столбцов в матрице, затем элементы матрицы (целые числа) построчно через пробел.\n",
    "Программа должна вывести текст в соответствии с условием задачи.\n",
    "Примечание. Элементы диагоналей не учитываются.\"\"\"\n",
    "\"\"\"\n",
    "Input 1:\n",
    "4\n",
    "1 2 3 4\n",
    "5 6 7 8\n",
    "3 4 5 6\n",
    "1 2 3 4\n",
    "Output 1:\n",
    "Верхняя четверть: 5\n",
    "Правая четверть: 14\n",
    "Нижняя четверть: 5\n",
    "Левая четверть: 8\n",
    "\n",
    "Input 2:\n",
    "5\n",
    "1 4 3 4 7\n",
    "5 6 7 8 4\n",
    "3 8 5 6 1\n",
    "1 2 9 4 8\n",
    "5 6 1 5 8\n",
    "Output 2:\n",
    "Верхняя четверть: 18\n",
    "Правая четверть: 19\n",
    "Нижняя четверть: 21\n",
    "Левая четверть: 17\n",
    "\n",
    "Input 3:\n",
    "2\n",
    "99 72\n",
    "65 11\n",
    "Output 3:\n",
    "Верхняя четверть: 0\n",
    "Правая четверть: 0\n",
    "Нижняя четверть: 0\n",
    "Левая четверть: 0     \"\"\""
   ]
  },
  {
   "cell_type": "code",
   "execution_count": 1,
   "id": "f8c1d869-7962-40b9-af7b-ab61835fe7fb",
   "metadata": {},
   "outputs": [
    {
     "name": "stdout",
     "output_type": "stream",
     "text": [
      "Верхняя четверть: 5\n",
      "Правая четверть: 14\n",
      "Нижняя четверть: 5\n",
      "Левая четверть: 8\n"
     ]
    }
   ],
   "source": [
    "n = int(input())\n",
    "mtrx = [[int(n) for n in input().split()] for _ in range(n)]\n",
    "\n",
    "t_s = 0\n",
    "l_s = 0\n",
    "b_s = 0\n",
    "r_s = 0\n",
    "\n",
    "t = 0\n",
    "b = n - 1\n",
    "\n",
    "while (t < b):\n",
    "    for i in range(t + 1, b):\n",
    "        t_s += mtrx[t][i]\n",
    "\n",
    "    for i in range(t + 1, b):\n",
    "        l_s += mtrx[i][t]\n",
    "\n",
    "    for i in range(t + 1, b):\n",
    "        b_s += mtrx[b][i]\n",
    "\n",
    "    for i in range(t + 1, b):\n",
    "        r_s += mtrx[i][b]\n",
    "\n",
    "    t += 1\n",
    "    b -= 1\n",
    "\n",
    "print(f\"Верхняя четверть: {t_s}\")\n",
    "print(f\"Правая четверть: {r_s}\")\n",
    "print(f\"Нижняя четверть: {b_s}\")\n",
    "print(f\"Левая четверть: {l_s}\")"
   ]
  }
 ],
 "metadata": {
  "kernelspec": {
   "display_name": "Python 3",
   "language": "python",
   "name": "python3"
  },
  "language_info": {
   "codemirror_mode": {
    "name": "ipython",
    "version": 3
   },
   "file_extension": ".py",
   "mimetype": "text/x-python",
   "name": "python",
   "nbconvert_exporter": "python",
   "pygments_lexer": "ipython3",
   "version": "3.13.7"
  }
 },
 "nbformat": 4,
 "nbformat_minor": 5
}
