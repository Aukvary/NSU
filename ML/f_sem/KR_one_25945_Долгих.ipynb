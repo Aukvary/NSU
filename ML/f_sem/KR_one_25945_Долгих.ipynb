{
 "cells": [
  {
   "cell_type": "code",
   "execution_count": null,
   "id": "07fe6e28-2b87-4b1a-8872-20bd8dd9394d",
   "metadata": {},
   "outputs": [],
   "source": [
    "\"\"\"Время выполнения работы 1,5 часа.\n",
    "Подписать файл необходимо следующим образом: KR_one_25945_ФАМИЛИЯ\n",
    "Отправить файл необходимо сразу после пары.\n",
    "Файлы присланные позже не принимаются.\"\"\""
   ]
  },
  {
   "cell_type": "code",
   "execution_count": null,
   "id": "aaba06dd-6d68-42d8-8d3c-f8ec233e8da7",
   "metadata": {},
   "outputs": [],
   "source": [
    "#1 (1 балл)\n",
    "\"\"\"В языке Python списки (тип list) являются\n",
    "1) изменяемыми\n",
    "2) неизменяемыми\n",
    "\"\"\""
   ]
  },
  {
   "cell_type": "code",
   "execution_count": null,
   "id": "ffa0c5c0-f137-4fc3-8e9a-0a78c3f4f9d9",
   "metadata": {},
   "outputs": [],
   "source": [
    "1"
   ]
  },
  {
   "cell_type": "code",
   "execution_count": null,
   "id": "74404d23-ea93-4206-a30c-a05dfb00dfbd",
   "metadata": {},
   "outputs": [],
   "source": [
    "#2 (1 балл)\n",
    "\"\"\"Выберите правильный способ соединения (конкатенации) двух списков list1 и list2: \n",
    "\n",
    "list1 = ['a', 'b', 'c', 'd']\n",
    "list2 = ['e', 'f', 'g']\n",
    "                  \n",
    "Результатом должен быть список:\n",
    "list3 = ['a', 'b', 'c', 'd', 'e', 'f', 'g']\n",
    "\n",
    "1) list3.extend(list1, list2)\n",
    "2) list3 = list1.extend(list2)\n",
    "3) list3 = extend(list1, list2)\n",
    "4) list3 = list1 + list2                           \"\"\""
   ]
  },
  {
   "cell_type": "code",
   "execution_count": null,
   "id": "4d2ad780-0398-4676-8fbe-5ad015f74fd1",
   "metadata": {},
   "outputs": [],
   "source": [
    "4"
   ]
  },
  {
   "cell_type": "code",
   "execution_count": null,
   "id": "ab9638b5-0511-482a-bc42-5b0be6eece87",
   "metadata": {},
   "outputs": [],
   "source": [
    "#3 (1 балл)\n",
    "\"\"\"Что покажет приведенный ниже код?\n",
    "numbers = [10, 20, 30, 40, 50]\n",
    "print(numbers[-2])\n",
    "print(numbers[-4:-1])\n",
    "\n",
    "1) 40\n",
    "   [20, 30, 40, 50]\n",
    "2) 40\n",
    "   [40, 30, 20]\n",
    "3) 40\n",
    "   [20, 30, 40]\n",
    "4) 30\n",
    "   [20, 30, 40]        \n",
    "5) IndexError: list index out of range   \"\"\""
   ]
  },
  {
   "cell_type": "code",
   "execution_count": null,
   "id": "e5c4e106-f611-47a3-bda2-96923dba48c5",
   "metadata": {},
   "outputs": [],
   "source": [
    "4"
   ]
  },
  {
   "cell_type": "code",
   "execution_count": null,
   "id": "3840942e-3db8-4607-8a13-6a167e808cbe",
   "metadata": {},
   "outputs": [],
   "source": [
    "#4 (1 балл)\n",
    "\"\"\"Что покажет приведенный ниже код?\n",
    "numbers = [4, 8, 12, 16, 34, 56, 100]\n",
    "numbers[1:4] = [20, 24, 28]\n",
    "print(numbers)\n",
    "\n",
    "1) [4, 8, 12, 28, 24, 20, 100]\n",
    "\n",
    "2) [4, 8, 12, 16, 28, 24, 20]\n",
    "\n",
    "3) [4, 20, 24, 28, 34, 56, 100] \n",
    "\n",
    "4) [20, 24, 28, 16, 34, 56, 100]\n",
    "\n",
    "5) [4, 20, 24, 28]              \"\"\""
   ]
  },
  {
   "cell_type": "code",
   "execution_count": null,
   "id": "877ef65d-3958-466d-84af-20a4b9c8d057",
   "metadata": {},
   "outputs": [],
   "source": [
    "3"
   ]
  },
  {
   "cell_type": "code",
   "execution_count": null,
   "id": "5163e13c-c289-433d-a0b2-e1cb12c4327a",
   "metadata": {},
   "outputs": [],
   "source": [
    "#5 (1 балл)\n",
    "\"\"\"Что покажет приведенный ниже код?\n",
    "numbers = [10, 20, 30, 40, 50]\n",
    "numbers.append(60)\n",
    "print(numbers)\n",
    "\n",
    "numbers.append(60)\n",
    "print(numbers)\n",
    "\n",
    "1) [10, 20, 30, 40, 50, 60]\n",
    "   [10, 20, 30, 40, 50, 60]\n",
    "   \n",
    "2) [60, 10, 20, 30, 40, 50, 60]\n",
    "   [60, 60, 10, 20, 30, 40, 50]\n",
    "   \n",
    "3) [10, 20, 30, 40, 50, 60]\n",
    "   [10, 20, 30, 40, 50, 60, 60]   \"\"\""
   ]
  },
  {
   "cell_type": "code",
   "execution_count": null,
   "id": "92e06e1c-3ae9-42ae-b711-57f29be3f9cd",
   "metadata": {},
   "outputs": [],
   "source": [
    "3"
   ]
  },
  {
   "cell_type": "code",
   "execution_count": null,
   "id": "c7f8a6c3-c2a8-4cd1-8418-d52ec84feeee",
   "metadata": {},
   "outputs": [],
   "source": [
    "#6 (1 балл)\n",
    "\"\"\"Выберите все способы создания копии списка letters:\n",
    "letters = ['a', 'b', 'c', 'd']\n",
    "\n",
    "1) new_letters = letters[:]    \n",
    "2) new_letters = list(letters) \n",
    "3) new_letters = copy(letters)\n",
    "4) new_letters = letters.copy()\n",
    "5) new_letters = new_letters.copy(letters)       \"\"\""
   ]
  },
  {
   "cell_type": "code",
   "execution_count": null,
   "id": "a4a148c8-50f5-4596-8a09-f09ee9fb0bbf",
   "metadata": {},
   "outputs": [],
   "source": [
    "124"
   ]
  },
  {
   "cell_type": "code",
   "execution_count": null,
   "id": "a8879419-0021-40d3-af2f-8ca75b25a6f4",
   "metadata": {},
   "outputs": [],
   "source": [
    "#7 (1 балл)\n",
    "\"\"\"Что покажет приведенный ниже код?\n",
    "numbers = [10, 20, 30, 40]\n",
    "del numbers[0:6]\n",
    "print(numbers)\n",
    "\n",
    "1) [30, 40]\n",
    "2) list index out of range.\n",
    "3) []                      \n",
    "4) [10, 20]        \"\"\""
   ]
  },
  {
   "cell_type": "code",
   "execution_count": null,
   "id": "9524d926-705a-4011-b2f1-14d45df58188",
   "metadata": {},
   "outputs": [],
   "source": [
    "3"
   ]
  },
  {
   "cell_type": "code",
   "execution_count": null,
   "id": "89d3980b-498a-4513-ae49-bb7d7091fcb3",
   "metadata": {},
   "outputs": [],
   "source": [
    "#8 (1 балл)\n",
    "\"\"\"Что покажет приведенный ниже код?\n",
    "numbers = [1, 2, 3, 4, 5, 6, 7]\n",
    "new_numbers = [2 * x for x in numbers]\n",
    "print(new_numbers)\n",
    "\n",
    "1) [1, 2, 3, 4, 5, 6, 7]\n",
    "2) [2, 4, 6, 8, 10, 12, 14]\n",
    "3) [1, 4, 9, 16, 25, 36, 25]\n",
    "4) [2, 4, 8, 16, 32, 64, 128]\n",
    "5) [3, 4, 5, 6, 7, 8, 9]        \"\"\""
   ]
  },
  {
   "cell_type": "code",
   "execution_count": null,
   "id": "00cff18c-d980-456e-9876-964723ca913f",
   "metadata": {},
   "outputs": [],
   "source": [
    "2"
   ]
  },
  {
   "cell_type": "code",
   "execution_count": null,
   "id": "5867e323-c077-4b47-945c-d83464b3221e",
   "metadata": {},
   "outputs": [],
   "source": [
    "#9 (1 балл)\n",
    "\"\"\"Основные особенности кортежей – это\n",
    "\n",
    "1) безопасность\n",
    "2) скорость (производительность)\n",
    "3) неизменяемость\n",
    "4) простота использования           \"\"\""
   ]
  },
  {
   "cell_type": "code",
   "execution_count": null,
   "id": "da650e54-0e52-47c5-b828-1f2c7b8fa507",
   "metadata": {},
   "outputs": [],
   "source": [
    "23"
   ]
  },
  {
   "cell_type": "code",
   "execution_count": null,
   "id": "c16c96b1-a6e0-4156-9ffe-8d356b6d208e",
   "metadata": {},
   "outputs": [],
   "source": [
    "#10 (1 балл)\n",
    "\"\"\"Какие из приведенных ниже инструкций создают кортеж?\n",
    "\n",
    "1) values = {1, 2, 3, 4, 5}\n",
    "2) values = [1, 2, 3, 4, 5]\n",
    "3) values = (1, 2, 3, 4, 5)   \n",
    "4) values = (1, )             \n",
    "5) values = (1)\n",
    "6) values = ()                \n",
    "7) values = (1, 'dva', 3.0)   \n",
    "8) values = (i for i in '12345')          \"\"\""
   ]
  },
  {
   "cell_type": "code",
   "execution_count": null,
   "id": "e90e7e3b-ff32-496b-b985-80adbca043e7",
   "metadata": {},
   "outputs": [],
   "source": [
    "34567"
   ]
  },
  {
   "cell_type": "code",
   "execution_count": null,
   "id": "1541cc74-81ac-4354-bf08-701a534bc1ef",
   "metadata": {},
   "outputs": [],
   "source": [
    "#11 (1 балл)\n",
    "\"\"\"Что покажет приведенный ниже код?\n",
    "colors = ('red', 'green', 'blue')\n",
    "colors[0] = 'black'\n",
    "print(colors)\n",
    "\n",
    "1) ('red', 'green', 'blue')\n",
    "2) ('black', 'green', 'blue')\n",
    "3) произойдет ошибка                  \"\"\""
   ]
  },
  {
   "cell_type": "code",
   "execution_count": null,
   "id": "cd6e9dcc-21a0-49f1-a5c4-0631b3f2c7c3",
   "metadata": {},
   "outputs": [],
   "source": [
    "3"
   ]
  },
  {
   "cell_type": "code",
   "execution_count": null,
   "id": "ba99bee4-fdb7-4e40-b141-a725e157ef8e",
   "metadata": {},
   "outputs": [],
   "source": [
    "#12 (1 балл)\n",
    "\"\"\"Что покажет приведенный ниже код?\n",
    "numbers = (1, [2, 3], 4)\n",
    "numbers[1][0] = 17\n",
    "print(numbers)\n",
    "\n",
    "1) (1, [17, 3], 4)  \n",
    "2) (1, [2, 3], 4)\n",
    "3) произойдет ошибка         \"\"\""
   ]
  },
  {
   "cell_type": "code",
   "execution_count": null,
   "id": "2e1c950c-2e71-4508-a0c8-679ca9ae5fe6",
   "metadata": {},
   "outputs": [],
   "source": [
    "1"
   ]
  },
  {
   "cell_type": "code",
   "execution_count": null,
   "id": "529e3b75-d207-4f83-812c-9fd6ee4c7f1c",
   "metadata": {},
   "outputs": [],
   "source": [
    "#13 (1 балл)\n",
    "\"\"\"Что выведет следующий программный код?\n",
    "myset = set('ъъ эээ юююю яяяяя')\n",
    "print(len(myset)) \n",
    "\n",
    "1) 5   \n",
    "2) 14\n",
    "3) 15\n",
    "4) 4        \"\"\""
   ]
  },
  {
   "cell_type": "code",
   "execution_count": null,
   "id": "87797247-51b8-4d8a-a24a-12d48152d0cd",
   "metadata": {},
   "outputs": [],
   "source": [
    "1"
   ]
  },
  {
   "cell_type": "code",
   "execution_count": null,
   "id": "784c9485-f437-4acd-945c-81651e30ea37",
   "metadata": {},
   "outputs": [],
   "source": [
    "#14 (1 балл)\n",
    "\"\"\"Что выведет следующий программный код?\n",
    "myset = {'Yellow', 'Orange', 'Black'}\n",
    "print(myset[1])\n",
    "\n",
    "1) ошибка во время выполнения кода  \n",
    "2) Yellow\n",
    "3) Orange\n",
    "4) Black      \"\"\""
   ]
  },
  {
   "cell_type": "code",
   "execution_count": null,
   "id": "4d6b3150-be37-4be8-bd75-f404e8d648c1",
   "metadata": {},
   "outputs": [],
   "source": [
    "3"
   ]
  },
  {
   "cell_type": "code",
   "execution_count": null,
   "id": "ab17f9f4-ea72-4699-98b8-4b2fee825439",
   "metadata": {},
   "outputs": [],
   "source": [
    "#15 (1 балл)\n",
    "\"\"\"Словари (тип данных dict) являются\n",
    "\n",
    "1) Неизменяемыми\n",
    "2) Изменяемыми     \"\"\""
   ]
  },
  {
   "cell_type": "code",
   "execution_count": null,
   "id": "972e02b9-61ab-490d-8610-36e878afd333",
   "metadata": {},
   "outputs": [],
   "source": [
    "2"
   ]
  },
  {
   "cell_type": "code",
   "execution_count": null,
   "id": "27e239f6-1224-4963-99e9-dfd22c22a9fa",
   "metadata": {},
   "outputs": [],
   "source": [
    "#16 (1 балл)\n",
    "\"\"\"Как создать пустой словарь?\n",
    "\n",
    "1) my_dict = set()\n",
    "2) my_dict = dict()  \n",
    "3) my_dict = []\n",
    "4) my_dict = ()\n",
    "5) my_dict = dict{}\n",
    "6) my_dict = {}\n",
    "7) my_dict = empty()   \"\"\" "
   ]
  },
  {
   "cell_type": "code",
   "execution_count": null,
   "id": "5d6453d7-8374-4564-8c9f-c52a91db4245",
   "metadata": {},
   "outputs": [],
   "source": [
    "37"
   ]
  },
  {
   "cell_type": "code",
   "execution_count": null,
   "id": "0cfd430f-2174-43af-9242-3ad6e30dad8a",
   "metadata": {},
   "outputs": [],
   "source": [
    "#17 (1 балл)\n",
    "\"\"\"Что покажет приведенный ниже код?\n",
    "stuff = {1: 'ааа', 2: 'ббб', 3: 'ввв'}\n",
    "print(stuff[3])\n",
    "\n",
    "1) ввв                  \n",
    "2) 2\n",
    "3) ааа\n",
    "4) 3\n",
    "5) 1\n",
    "6) ошибка во время выполнения кода\n",
    "7) ббб                 \"\"\""
   ]
  },
  {
   "cell_type": "code",
   "execution_count": null,
   "id": "93ebbc19-69c3-4b8f-9542-f3a9cadad545",
   "metadata": {},
   "outputs": [],
   "source": [
    "1"
   ]
  },
  {
   "cell_type": "code",
   "execution_count": null,
   "id": "47bf9037-be6f-4ad9-b7dd-04073485328a",
   "metadata": {},
   "outputs": [],
   "source": [
    "#18 (1 балл)\n",
    "\"\"\"Что покажет приведенный ниже код?\n",
    "my_dict = dict.fromkeys(['a', 'b', 'c'], -1)\n",
    "print(my_dict['b'])\n",
    "\n",
    "1) c\n",
    "2) a\n",
    "3) ошибка во время выполнения кода\n",
    "4) -1                             \n",
    "5) b\n",
    "6) Missed information       \"\"\""
   ]
  },
  {
   "cell_type": "code",
   "execution_count": null,
   "id": "8116b076-da2c-4613-9db1-4be8ac0d9644",
   "metadata": {},
   "outputs": [],
   "source": [
    "4"
   ]
  },
  {
   "cell_type": "code",
   "execution_count": null,
   "id": "251b0dcd-1eea-47d0-b4cd-ed3b99e221e3",
   "metadata": {},
   "outputs": [],
   "source": [
    "#19 (1 балл)\n",
    "\"\"\"Выберите верные утверждения.\n",
    "\n",
    "1) кортеж может быть ключом словаря  \n",
    "2) список может быть ключом словаря\n",
    "3) ключи в словаре должны относиться к неизменяемому типу данных  \n",
    "4) кортеж может быть значением словаря      \n",
    "5) словарь может быть ключом словаря\n",
    "6) множество (тип set) может быть ключом словаря\n",
    "7) словарь может быть значением словаря   \n",
    "8) код my_dict = {} создает пустой словарь \n",
    "9) список может быть значением словаря    \"\"\""
   ]
  },
  {
   "cell_type": "code",
   "execution_count": null,
   "id": "e78501ad-ea9d-466a-8681-e6d3efa347f3",
   "metadata": {},
   "outputs": [],
   "source": [
    "12456789"
   ]
  },
  {
   "cell_type": "code",
   "execution_count": null,
   "id": "1b1b4052-3d31-4d0e-a05e-e75556a811f7",
   "metadata": {},
   "outputs": [],
   "source": [
    "#20 (1 балл)\n",
    "\"\"\"Аргументы функции, которые передаются вместе с именами, называются\n",
    "\n",
    "1) именованными  \n",
    "2) позиционными\n",
    "3) обычными\n",
    "4) особенными\n",
    "5) необязательными      \"\"\""
   ]
  },
  {
   "cell_type": "code",
   "execution_count": null,
   "id": "fc8db671-6b89-48d7-8b15-d41ec1413bb1",
   "metadata": {},
   "outputs": [],
   "source": [
    "1"
   ]
  },
  {
   "cell_type": "code",
   "execution_count": null,
   "id": "06091cf5-d2ac-4c0b-9c93-7eecda79b581",
   "metadata": {},
   "outputs": [],
   "source": [
    "#21 (1 балл)\n",
    "\"\"\" Выберите правильные способы вызова функции my_func(), которая была определена так:\n",
    "def my_func(x, y):\n",
    "\n",
    "1) my_func(10, y=20)   \n",
    "2) my_func(x=10, 20)\n",
    "3) my_func(y=20, 10)\n",
    "4) my_func(x=10, y=20) \n",
    "5) my_func(10, 20)         \"\"\""
   ]
  },
  {
   "cell_type": "code",
   "execution_count": null,
   "id": "594befeb-ce40-43d4-acaa-eba50da7809c",
   "metadata": {},
   "outputs": [],
   "source": [
    "145"
   ]
  },
  {
   "cell_type": "code",
   "execution_count": null,
   "id": "ae6e28a4-3afa-4b3e-ab23-38cbb63d5075",
   "metadata": {},
   "outputs": [],
   "source": [
    "#22 (1 балл)\n",
    "\"\"\"Что покажет приведенный ниже код?\n",
    "def f(n=3):\n",
    "    return n + 7\n",
    "print(f(f(f())))\"\"\""
   ]
  },
  {
   "cell_type": "code",
   "execution_count": null,
   "id": "9a9067a0-dede-474d-80a1-c54b878185df",
   "metadata": {},
   "outputs": [],
   "source": [
    "24"
   ]
  },
  {
   "cell_type": "code",
   "execution_count": null,
   "id": "8cfa9c2e-5006-46b9-899c-b15f00af3d84",
   "metadata": {},
   "outputs": [],
   "source": [
    "#23 (1 балл)\n",
    "\"\"\"Что покажет приведенный ниже код?\n",
    "def func(x, y, *args):\n",
    "    return len(args)\n",
    "print(func(10, 20, 30, 40, 50, 60))\n",
    "  \"\"\" "
   ]
  },
  {
   "cell_type": "code",
   "execution_count": null,
   "id": "4f90f56b-5d78-4247-9146-3c77af29d658",
   "metadata": {},
   "outputs": [],
   "source": [
    "4"
   ]
  },
  {
   "cell_type": "code",
   "execution_count": null,
   "id": "df063572-fbfe-4700-a904-2db207704c75",
   "metadata": {},
   "outputs": [],
   "source": [
    "#24 (1 балл)\n",
    "\"\"\"Встроенная функция map() возвращает:\n",
    "\n",
    "1) итератор \n",
    "2) кортеж\n",
    "3) множество\n",
    "4) строку\n",
    "5) словарь\n",
    "6) список   \"\"\""
   ]
  },
  {
   "cell_type": "code",
   "execution_count": null,
   "id": "080b9d33-eec4-465b-a46c-dcca996c509a",
   "metadata": {},
   "outputs": [],
   "source": [
    "1"
   ]
  },
  {
   "cell_type": "code",
   "execution_count": null,
   "id": "a40b5d12-058d-477a-a3a3-5c191e32f4ad",
   "metadata": {},
   "outputs": [],
   "source": [
    "#25 (1 балл)\n",
    "\"\"\"Для каких функций нужно подключить модуль functools?\n",
    "\n",
    "1) map()\n",
    "2) reduce() \n",
    "3) filter()  \"\"\""
   ]
  },
  {
   "cell_type": "code",
   "execution_count": null,
   "id": "ada568b1-0e5f-42e8-8ea3-be743cf6e1aa",
   "metadata": {},
   "outputs": [],
   "source": [
    "2"
   ]
  },
  {
   "cell_type": "code",
   "execution_count": null,
   "id": "00787d3e-c4b8-4bc6-917d-f6ff215738a8",
   "metadata": {},
   "outputs": [],
   "source": [
    "#26 (1 балл)\n",
    "\"\"\"Что покажет приведенный ниже код?\n",
    "iterable = [[1], [2], [3]]\n",
    "result = list(map(len, iterable))\n",
    "print(result)\n",
    "\n",
    "1) [1, 1, 1]         \n",
    "2) [[1], [2], [3]]\n",
    "3) [1, 2, 3]\n",
    "4) [[1], [1], [1]]\n",
    "5) 1\n",
    "\"\"\""
   ]
  },
  {
   "cell_type": "code",
   "execution_count": null,
   "id": "659b53f8-7ba5-4836-81e1-dd95946b3e7e",
   "metadata": {},
   "outputs": [],
   "source": [
    "1"
   ]
  },
  {
   "cell_type": "code",
   "execution_count": null,
   "id": "5fcc273b-d07f-40da-81c8-51ea9e26cd8d",
   "metadata": {},
   "outputs": [],
   "source": [
    "#27 (1 балл)\n",
    "\"\"\"Что покажет приведенный ниже код?\n",
    "list1 = list(map(len, ['this', 'is', 'a', 'test']))\n",
    "list2 = [len(word) for word in ['this', 'is', 'a', 'test']]\n",
    "print(list1 == list2)\n",
    "\n",
    "1) False\n",
    "2) True   \"\"\""
   ]
  },
  {
   "cell_type": "code",
   "execution_count": null,
   "id": "84bb10d3-999f-4750-a9ae-db71ce78e393",
   "metadata": {},
   "outputs": [],
   "source": [
    "2"
   ]
  },
  {
   "cell_type": "code",
   "execution_count": null,
   "id": "e5e8e3c3-2915-45db-a15a-bcf2e0dd2ab6",
   "metadata": {},
   "outputs": [],
   "source": [
    "#28 (1 балл)\n",
    "\"\"\"Что покажет приведенный ниже код?\n",
    "def filter_vowels(letter):\n",
    "    return letter in 'aeiou'\n",
    "letters = ['a', 'b', 'd', 'e', 'i', 'j', 'o']\n",
    "filtered_vowels = filter(filter_vowels, letters)\n",
    "print(*filtered_vowels)\n",
    "\n",
    "1) a e i o u\n",
    "2) a b d e i j o\n",
    "3) a e i o  \n",
    "4) b d j o    \"\"\""
   ]
  },
  {
   "cell_type": "code",
   "execution_count": null,
   "id": "9f9f0ed8-28d3-4fc4-b171-e4c6d3f747a2",
   "metadata": {},
   "outputs": [],
   "source": [
    "3"
   ]
  },
  {
   "cell_type": "code",
   "execution_count": null,
   "id": "29d076b5-9f4a-4391-af5e-4978502b3b31",
   "metadata": {},
   "outputs": [],
   "source": [
    "#29 (1 балл)\n",
    "\"\"\"Что покажет приведенный ниже код?\n",
    "numbers = [1, 2, 5, 3, 4]\n",
    "numbers.sort(key=lambda x: -x)\n",
    "print(numbers)\n",
    "\n",
    "1) [-5, -4, -3, -2, -1]\n",
    "2) произойдет ошибка\n",
    "3) [-1, -2, -5, -3, -4]\n",
    "4) [5, 4, 3, 2, 1]       \n",
    "5) [1, 2, 5, 3, 4]   \"\"\""
   ]
  },
  {
   "cell_type": "code",
   "execution_count": null,
   "id": "6ab47aa2-d669-487e-962d-0c854de967eb",
   "metadata": {},
   "outputs": [],
   "source": [
    "4"
   ]
  },
  {
   "cell_type": "code",
   "execution_count": null,
   "id": "35fa9d4b-175a-4349-b099-75b5b88fabc3",
   "metadata": {},
   "outputs": [],
   "source": [
    "#30 (1 балл)\n",
    "\"\"\"Что покажет приведенный ниже код?\n",
    "primes = [2, 3, 5, 7, 11, 13, 17, 19, 23, 29]\n",
    "result = list(filter(lambda x: True, primes))\n",
    "print(result)\n",
    "\n",
    "1) [3, 5, 7, 11, 13, 17, 19, 23, 29]\n",
    "2) произойдет ошибка\n",
    "3) [2, 3, 5, 7, 11, 13, 17, 19, 23, 29]\n",
    "4) []   \"\"\""
   ]
  },
  {
   "cell_type": "code",
   "execution_count": null,
   "id": "339aae7a-f978-45d6-8a10-89903289587d",
   "metadata": {},
   "outputs": [],
   "source": [
    "3"
   ]
  },
  {
   "cell_type": "code",
   "execution_count": null,
   "id": "49e1d0d2-f1b0-4114-ba5a-4d5a918b4c36",
   "metadata": {},
   "outputs": [],
   "source": [
    "#31 (3 балла)\n",
    "\"\"\"Дан список numbers, содержащий кортежи чисел. \n",
    "Напишите программу, которая с помощью встроенных функций min() и max() выводит те кортежи \n",
    "(каждый на отдельной строке), которые имеют минимальное и максимальное среднее арифметическое значение элементов.\n",
    "Используйте необязательный аргумент key.\"\"\""
   ]
  },
  {
   "cell_type": "code",
   "execution_count": 34,
   "id": "630db507-fed7-43e3-b05e-dd0aae6bc896",
   "metadata": {},
   "outputs": [
    {
     "name": "stdout",
     "output_type": "stream",
     "text": [
      "(10, 10, 10.0)\n",
      "(30, 56, 43.666666666666664)\n",
      "(39, 81, 60.0)\n",
      "(1, 3, 2.0)\n",
      "(12, 12, 12.0)\n",
      "(-4, 100, 31.333333333333332)\n",
      "(1, 99, 34.0)\n",
      "(9, 89, 44.0)\n",
      "(-2, 30, 14.5)\n",
      "(40, 50, 46.666666666666664)\n",
      "(34, 78, 59.0)\n",
      "(-5, 90, 19.75)\n",
      "(1, 6, 3.5)\n",
      "(-9, 8, 1.0)\n",
      "(-45, 90, 6.25)\n"
     ]
    }
   ],
   "source": [
    "numbers = [(10, 10, 10), (30, 45, 56), (81, 39), (1, 2, 3), (12,), (-2, -4, 100), (1, 2, 99), (89, 9, 34), (10, 20, 30, -2), (50, 40, 50), (34, 78, 65), (-5, 90, -1, -5), (1, 2, 3, 4, 5, 6), (-9, 8, 4), (90, 1, -45, -21)]\n",
    "\n",
    "res = map(lambda x: (min(x), max(x), sum(x) / len(x)), numbers)\n",
    "\n",
    "for val in res:\n",
    "    print(val)"
   ]
  },
  {
   "cell_type": "code",
   "execution_count": null,
   "id": "68f6454b-8d8a-4bc6-b6f1-b3243931f512",
   "metadata": {},
   "outputs": [],
   "source": [
    "#32 (10 баллов)\n",
    "\"\"\"Недавно выпал снег. Хоть Новый Год еще не скоро, но новогоднее настроение уже ощущается.\n",
    "Саша захотел поставить елку, но елки будут продавать только в конце декабря.\n",
    "Тогда Саша решил написать программу, которая выведет на экран елку, но столкнулся с трудностью - программа никак не получается.\n",
    "Помогите Саше нарисовать украшенную елку.\n",
    "\n",
    "ПРИМЕР:\n",
    "           *\n",
    "          ¤**\n",
    "         *★***\n",
    "        ¤*****♦\n",
    "          ***\n",
    "         ♦¤☆*○\n",
    "        ●♦♦*○●*\n",
    "       *****●●●*\n",
    "         *****\n",
    "        *******\n",
    "       **●**♦○♦○\n",
    "      ○*¤********\n",
    "          |||\n",
    "\n",
    "\n",
    "Декорации - ['o', '@', '★', '•', '♦'] - могут быть на елке RANDOMно.\n",
    "\"\"\""
   ]
  },
  {
   "cell_type": "code",
   "execution_count": 33,
   "id": "da23495c-d4fd-4354-9aea-f23f58d2d77e",
   "metadata": {},
   "outputs": [
    {
     "name": "stdout",
     "output_type": "stream",
     "text": [
      "      @\n",
      "     ♦•@\n",
      "    •*★★*\n",
      "   ♦♦♦••oo\n",
      "     ♦**\n",
      "    @*@@♦\n",
      "   o★*@••o\n",
      "  *♦**oo@♦o\n",
      "    •*★@★\n",
      "   @♦@o★•★\n",
      "  ♦**★*★♦♦@\n",
      " @★*o••@•***\n",
      "     |||\n"
     ]
    }
   ],
   "source": [
    "from random import choice\n",
    "dec = ['o', '@', '★', '•', '♦', '*']\n",
    "\n",
    "odd_nums = [i for i in range(1, 12) if i % 2 != 0]\n",
    "\n",
    "start = 6\n",
    "\n",
    "for i in range(3):\n",
    "    for j in range(odd_nums[i], odd_nums[i + 2] + 3, 2):\n",
    "            print(' ' * (start - odd_nums.index(j)) + ''.join(choice(dec) for _ in range(j)))\n",
    "\n",
    "\n",
    "print('     |||')"
   ]
  }
 ],
 "metadata": {
  "kernelspec": {
   "display_name": "Python 3",
   "language": "python",
   "name": "python3"
  },
  "language_info": {
   "codemirror_mode": {
    "name": "ipython",
    "version": 3
   },
   "file_extension": ".py",
   "mimetype": "text/x-python",
   "name": "python",
   "nbconvert_exporter": "python",
   "pygments_lexer": "ipython3",
   "version": "3.13.7"
  }
 },
 "nbformat": 4,
 "nbformat_minor": 5
}
